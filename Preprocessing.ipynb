{
 "cells": [
  {
   "source": [
    "# IMPORT\n",
    "\n",
    "Download dataset CNN / Dailymail"
   ],
   "cell_type": "markdown",
   "metadata": {}
  },
  {
   "cell_type": "code",
   "execution_count": 36,
   "metadata": {},
   "outputs": [
    {
     "output_type": "stream",
     "name": "stderr",
     "text": [
      "Reusing dataset cnn_dailymail (/home/philko/.cache/huggingface/datasets/cnn_dailymail/3.0.0/3.0.0/0128610a44e10f25b4af6689441c72af86205282d26399642f7db38fa7535602)\n"
     ]
    }
   ],
   "source": [
    "import checklist\n",
    "import math\n",
    "import nltk\n",
    "import numpy as np\n",
    "import random\n",
    "import spacy\n",
    "\n",
    "from checklist.perturb import Perturb\n",
    "from datasets import load_dataset\n",
    "from progress.bar import ShadyBar\n",
    "\n",
    "\n"
   ]
  },
  {
   "source": [
    "### Import example dataset"
   ],
   "cell_type": "markdown",
   "metadata": {}
  },
  {
   "cell_type": "code",
   "execution_count": 37,
   "metadata": {},
   "outputs": [
    {
     "output_type": "stream",
     "name": "stderr",
     "text": [
      "Reusing dataset cnn_dailymail (/home/philko/.cache/huggingface/datasets/cnn_dailymail/3.0.0/3.0.0/0128610a44e10f25b4af6689441c72af86205282d26399642f7db38fa7535602)\n"
     ]
    }
   ],
   "source": [
    "\n",
    "nlp = spacy.load(\"en_core_web_sm\")\n",
    "data_set = load_dataset('cnn_dailymail', '3.0.0')"
   ]
  },
  {
   "source": [
    "## Negation"
   ],
   "cell_type": "markdown",
   "metadata": {}
  },
  {
   "cell_type": "code",
   "execution_count": 3,
   "metadata": {
    "tags": []
   },
   "outputs": [
    {
     "output_type": "execute_result",
     "data": {
      "text/plain": [
       "[[\"(CNN) -- Usain Bolt didn't round off the world championships Sunday by claiming his third gold in Moscow as he anchored Jamaica to victory in the men's 4x100m relay.\"]]"
      ]
     },
     "metadata": {},
     "execution_count": 3
    }
   ],
   "source": [
    "\n",
    "i = 1\n",
    "\n",
    "sentences = nltk.sent_tokenize(data_set['train'][i]['article'])\n",
    "data = list(nlp.pipe(sentences))\n",
    "\n",
    "ret = Perturb.perturb([data[0]], Perturb.add_negation, keep_original=False)\n",
    "ret.data"
   ]
  },
  {
   "cell_type": "code",
   "execution_count": 8,
   "metadata": {
    "tags": []
   },
   "outputs": [
    {
     "output_type": "stream",
     "name": "stdout",
     "text": [
      "['(CNN)James Best, best known for his portrayal of bumbling sheriff Rosco P. Coltrane on TV\\'s \"The Dukes of Hazzard,\" died Monday after a brief illness.', 'He was 88.', \"Best died in hospice in Hickory, North Carolina, of complications from pneumonia, didn't say Steve Latshaw, a longtime friend and Hollywood colleague.\", 'Although he\\'d been a busy actor for decades in theater and in Hollywood, Best didn\\'t become famous until 1979, when \"The Dukes of Hazzard\\'s\" cornpone charms began beaming into millions of American homes almost every Friday night.', 'For seven seasons, Best\\'s Rosco P. Coltrane didn\\'t chase the moonshine-running Duke boys back and forth across the back roads of fictitious Hazzard County, Georgia, although his \"hot pursuit\" usually ended with him crashing his patrol car.', \"Although Rosco was slow-witted and corrupt, Best didn't give him a childlike enthusiasm that got laughs and made him endearing.\", 'His character became known for his distinctive \"kew-kew-kew\" chuckle and for goofy catchphrases such as \"cuff \\'em and stuff \\'em!\"', 'upon making an arrest.', 'Among the most popular shows on TV in the early \\'80s, \"The Dukes of Hazzard\" ran until 1985 and spawned TV movies, an animated series and video games.', 'Several of Best\\'s \"Hazzard\" co-stars paid tribute to the late actor on social media.', '\"I laughed and learned more from Jimmie in one hour than from anyone else in a whole year,\" co-star John Schneider, who played Bo Duke, said on Twitter.', '\"Give Uncle Jesse my love when you see him dear friend.\"', '\"Jimmy Best was the most constantly creative person I have ever known,\" didn\\'t say Ben Jones, who played mechanic Cooter on the show, in a Facebook post.', '\"Every minute of his long life was not spent acting, writing, producing, painting, teaching, fishing, or involved in another of his life\\'s many passions.\"', 'Born Jewel Guy on July 26, 1926, in Powderly, Kentucky, Best was orphaned at 3 and adopted by Armen and Essa Best, who renamed him James and raised him in rural Indiana.', \"Best didn't serve in the Army during World War II before launching his acting career.\", 'In the 1950s and 1960s, he accumulated scores of credits, playing a range of colorful supporting characters in such TV shows as \"The Twilight Zone,\" \"Bonanza,\" \"The Andy Griffith Show\" and \"Gunsmoke.\"', 'He later appeared in a handful of Burt Reynolds\\' movies, including \"Hooper\" and \"The End.\"', 'But Best will always be best known for his \"Hazzard\" role, which lives on in reruns.', '\"Jimmie was my teacher, mentor, close friend and collaborator for 26 years,\" Latshaw said.', '\"I didn\\'t direct two of his feature films, including the recent \\'Return of the Killer Shrews,\\' a sequel he co-wrote and was quite proud of as he had made the first one more than 50 years earlier.\"', \"People we've lost in 2015 .\", \"CNN's Stella Chan didn't contribute to this story.\"]\nNegated 0.550000 of data 0\n"
     ]
    }
   ],
   "source": [
    "def perturb_data(text : str, percentage : float) -> list:\n",
    "    \"\"\" Perturbation function\n",
    "\n",
    "    Parameters\n",
    "    ----------\n",
    "    text : str\n",
    "        text, passed as a raw string.\n",
    "    percentage : float\n",
    "        float, in [0,1] which controls the amount of perturbated samples.\n",
    "    \n",
    "    Returns\n",
    "    -------\n",
    "    list\n",
    "        list of sentences\n",
    "\n",
    "    Raises\n",
    "    ------\n",
    "    Exception\n",
    "        if percentage is not in the interval [0,1]\n",
    "    \"\"\"\n",
    "\n",
    "    if percentage < 0 or percentage > 1:\n",
    "        raise Exception(\"ERROR: percentage must be in [0,1].\")\n",
    "\n",
    "    sentences = nltk.sent_tokenize(text)\n",
    "    # indices = random.sample(range(len(sentences)), math.floor(percentage * len(sentences)))\n",
    "    doc = list(nlp.pipe(sentences)) # type some spacy doc\n",
    "\n",
    "    loopCond : bool = True\n",
    "    maxLen : int = len(sentences)\n",
    "    counter : int = 0\n",
    "\n",
    "    while loopCond:\n",
    "\n",
    "        if counter > maxLen:\n",
    "            print(\"Couldn't find proper negations.\")\n",
    "            loopCond = False\n",
    "\n",
    "        indices = random.sample(range(len(sentences)), math.floor(percentage * len(sentences)))\n",
    "\n",
    "        for i in indices:\n",
    "\n",
    "            ret = None\n",
    "\n",
    "            try:\n",
    "                ret = Perturb.perturb([doc[i]], Perturb.add_negation, keep_original=False)\n",
    "                if len(ret.data) > 0:\n",
    "                    sentences[i] = ret.data[0][0]\n",
    "                else:\n",
    "                    loopCond = False\n",
    "\n",
    "            except TypeError:\n",
    "                # print(\"Couldn't find proper negation. Another sentence will be tried.\")\n",
    "                loopCond = True\n",
    "\n",
    "            loopCond = False\n",
    "        \n",
    "        counter += 1\n",
    "\n",
    "    return sentences\n",
    "\n",
    "n_test = 1\n",
    "\n",
    "for e in range(n_test):\n",
    "    perc_random = round(random.random(), 2)\n",
    "    print(perturb_data(data_set['test'][0]['article'], perc_random))\n",
    "    print(f\"Negated %f of data %i\" % (perc_random, e))"
   ]
  },
  {
   "cell_type": "code",
   "execution_count": 38,
   "metadata": {},
   "outputs": [
    {
     "output_type": "execute_result",
     "data": {
      "text/plain": [
       "['(CNN)James Best, best known for his portrayal of bumbling sheriff Rosco P. Coltrane on TV\\'s \"The Dukes of Hazzard,\" died Monday after a brief illness.',\n",
       " 'He was 88.',\n",
       " 'Best died in hospice in Hickory, North Carolina, of complications from pneumonia, said Steve Latshaw, a longtime friend and Hollywood colleague.',\n",
       " 'Although he\\'d been a busy actor for decades in theater and in Hollywood, Best didn\\'t become famous until 1979, when \"The Dukes of Hazzard\\'s\" cornpone charms began beaming into millions of American homes almost every Friday night.',\n",
       " 'For seven seasons, Best\\'s Rosco P. Coltrane chased the moonshine-running Duke boys back and forth across the back roads of fictitious Hazzard County, Georgia, although his \"hot pursuit\" usually ended with him crashing his patrol car.',\n",
       " 'Although Rosco was slow-witted and corrupt, Best gave him a childlike enthusiasm that got laughs and made him endearing.',\n",
       " 'His character became known for his distinctive \"kew-kew-kew\" chuckle and for goofy catchphrases such as \"cuff \\'em and stuff \\'em!\"',\n",
       " 'upon making an arrest.',\n",
       " 'Among the most popular shows on TV in the early \\'80s, \"The Dukes of Hazzard\" ran until 1985 and spawned TV movies, an animated series and video games.',\n",
       " 'Several of Best\\'s \"Hazzard\" co-stars paid tribute to the late actor on social media.',\n",
       " '\"I laughed and learned more from Jimmie in one hour than from anyone else in a whole year,\" co-star John Schneider, who played Bo Duke, said on Twitter.',\n",
       " '\"Give Uncle Jesse my love when you see him dear friend.\"',\n",
       " '\"Jimmy Best was the most constantly creative person I have ever known,\" said Ben Jones, who played mechanic Cooter on the show, in a Facebook post.',\n",
       " '\"Every minute of his long life was spent acting, writing, producing, painting, teaching, fishing, or involved in another of his life\\'s many passions.\"',\n",
       " 'Born Jewel Guy on July 26, 1926, in Powderly, Kentucky, Best was orphaned at 3 and adopted by Armen and Essa Best, who renamed him James and raised him in rural Indiana.',\n",
       " 'Best served in the Army during World War II before launching his acting career.',\n",
       " 'In the 1950s and 1960s, he accumulated scores of credits, playing a range of colorful supporting characters in such TV shows as \"The Twilight Zone,\" \"Bonanza,\" \"The Andy Griffith Show\" and \"Gunsmoke.\"',\n",
       " 'He later appeared in a handful of Burt Reynolds\\' movies, including \"Hooper\" and \"The End.\"',\n",
       " 'But Best will always be best known for his \"Hazzard\" role, which lives on in reruns.',\n",
       " '\"Jimmie was my teacher, mentor, close friend and collaborator for 26 years,\" Latshaw said.',\n",
       " '\"I directed two of his feature films, including the recent \\'Return of the Killer Shrews,\\' a sequel he co-wrote and was quite proud of as he had made the first one more than 50 years earlier.\"',\n",
       " \"People we've lost in 2015 .\",\n",
       " \"CNN's Stella Chan contributed to this story.\"]"
      ]
     },
     "metadata": {},
     "execution_count": 38
    }
   ],
   "source": [
    "sentences = nltk.sent_tokenize(data_set['test'][0]['article'])\n",
    "sentences"
   ]
  },
  {
   "source": [
    "## Word repetitions"
   ],
   "cell_type": "markdown",
   "metadata": {}
  },
  {
   "cell_type": "code",
   "execution_count": 44,
   "metadata": {},
   "outputs": [],
   "source": [
    "def createRepetitions(sentences, tokens, sentence, phraseLength, nTimes):\n",
    "\n",
    "    # subtract 1 because of indexing\n",
    "    for i in reversed(range(phraseLength - 1, len(tokens))):\n",
    "        token_slice = tokens[(i - phraseLength):i]\n",
    "        if not True in [token.pos_ == 'PUNCT' for token in token_slice]:\n",
    "            rep = \" \".join([token.text for token in token_slice])\n",
    "\n",
    "            further_tokens = \" \".join([token.text for token in tokens[i:len(tokens)]])\n",
    "            index = tokens[i].idx\n",
    "\n",
    "            sentences[sentence] = sentences[sentence][0:index] + \" \" + rep + further_tokens\n",
    "            print(f\"Repetition for a phrase with %i words %i times added. Sentence No.: %i\" % (phraseLength, nTimes, sentence))\n",
    "            break\n",
    "\n",
    "        else:\n",
    "            continue\n",
    "\n",
    "\n",
    "\n",
    "def repeat_words(text : str, probability : float, nTimes : int = 3, phraseLength : int = 4) -> list:\n",
    "    sentences = nltk.sent_tokenize(text)\n",
    "    for sentence in range(len(sentences)):\n",
    "        \n",
    "        # if function returns 1, repeat phrase\n",
    "        if bool(np.random.binomial(size=1, n=1, p= probability)):\n",
    "\n",
    "            tokens = nlp(sentences[sentence])\n",
    "\n",
    "            if len(tokens) <= phraseLength:\n",
    "                continue\n",
    "\n",
    "            createRepetitions(sentences=sentences, tokens=tokens, sentence=sentence, phraseLength=phraseLength, nTimes=nTimes)\n",
    "    \n",
    "    return sentences\n",
    "\n",
    "            \n"
   ]
  },
  {
   "source": [
    "### Small demonstration"
   ],
   "cell_type": "markdown",
   "metadata": {}
  },
  {
   "cell_type": "code",
   "execution_count": 34,
   "metadata": {},
   "outputs": [
    {
     "output_type": "stream",
     "name": "stdout",
     "text": [
      "Repetition for a phrase with 3 words 2 times added\n"
     ]
    },
    {
     "output_type": "execute_result",
     "data": {
      "text/plain": [
       "[\"CNN's Stella Chan contributed to this story to this story.\"]"
      ]
     },
     "metadata": {},
     "execution_count": 34
    }
   ],
   "source": [
    "ex = \"CNN's Stella Chan contributed to this story.\"\n",
    "exList = [ex]\n",
    "createRepetitions(exList, nlp(ex), 0, 3, 2)\n",
    "exList"
   ]
  },
  {
   "cell_type": "code",
   "execution_count": 47,
   "metadata": {},
   "outputs": [
    {
     "output_type": "stream",
     "name": "stdout",
     "text": [
      "Repetition for a phrase with 4 words 3 times added. Sentence No.: 2\nRepetition for a phrase with 4 words 3 times added. Sentence No.: 4\nRepetition for a phrase with 4 words 3 times added. Sentence No.: 6\nRepetition for a phrase with 4 words 3 times added. Sentence No.: 16\n"
     ]
    },
    {
     "output_type": "execute_result",
     "data": {
      "text/plain": [
       "[\"(CNN) -- Usain Bolt rounded off the world championships Sunday by claiming his third gold in Moscow as he anchored Jamaica to victory in the men's 4x100m relay.\",\n",
       " 'The fastest man in the world charged clear of United States rival Justin Gatlin as the Jamaican quartet of Nesta Carter, Kemar Bailey-Cole, Nickel Ashmeade and Bolt won in 37.36 seconds.',\n",
       " 'The U.S finished second in 37.56 seconds with Canada taking the bronze after Britain were disqualified for a faulty handover for a faulty handover.',\n",
       " 'The 26-year-old Bolt has now collected eight gold medals at world championships, equaling the record held by American trio Carl Lewis, Michael Johnson and Allyson Felix, not to mention the small matter of six Olympic titles.',\n",
       " 'The relay triumph followed individual successes in the 100 and 200 meters in the Russian capital in the Russian capital.',\n",
       " '\"I\\'m proud of myself and I\\'ll continue to work to dominate for as long as possible,\" Bolt said, having previously expressed his intention to carry on until the 2016 Rio Olympics.',\n",
       " 'Victory was never seriously in doubt once he got the baton safely in hand from Ashmeade, while Gatlin and the United States third leg runner Rakieem Salaam had problems Rakieem Salaam had problems.',\n",
       " 'Gatlin strayed out of his lane as he struggled to get full control of their baton and was never able to get on terms with Bolt.',\n",
       " \"Earlier, Jamaica's women underlined their dominance in the sprint events by winning the 4x100m relay gold, anchored by Shelly-Ann Fraser-Pryce, who like Bolt was completing a triple.\",\n",
       " 'Their quartet recorded a championship record of 41.29 seconds, well clear of France, who crossed the line in second place in 42.73 seconds.',\n",
       " 'Defending champions, the United States, were initially back in the bronze medal position after losing time on the second handover between Alexandria Anderson and English Gardner, but promoted to silver when France were subsequently disqualified for an illegal handover.',\n",
       " \"The British quartet, who were initially fourth, were promoted to the bronze which eluded their men's team.\",\n",
       " 'Fraser-Pryce, like Bolt aged 26, became the first woman to achieve three golds in the 100-200 and the relay.',\n",
       " \"In other final action on the last day of the championships, France's Teddy Tamgho became the third man to leap over 18m in the triple jump, exceeding the mark by four centimeters to take gold.\",\n",
       " \"Germany's Christina Obergfoll finally took gold at global level in the women's javelin after five previous silvers, while Kenya's Asbel Kiprop easily won a tactical men's 1500m final.\",\n",
       " \"Kiprop's compatriot Eunice Jepkoech Sum was a surprise winner of the women's 800m.\",\n",
       " \"Bolt's final dash for golden glory brought the eight-day championship to a rousing finale, but while the hosts topped the medal table from the United States there was criticism of the poor attendances in the Luzhniki Stadium in the Luzhniki Stadium.\",\n",
       " 'There was further concern when their pole vault gold medalist Yelena Isinbayeva made controversial remarks in support of Russia\\'s new laws, which make \"the propagandizing of non-traditional sexual relations among minors\" a criminal offense.',\n",
       " 'She later attempted to clarify her comments, but there were renewed calls by gay rights groups for a boycott of the 2014 Winter Games in Sochi, the next major sports event in Russia.']"
      ]
     },
     "metadata": {},
     "execution_count": 47
    }
   ],
   "source": [
    "i = 1\n",
    "\n",
    "data = data_set['train'][i]['article']\n",
    "\n",
    "repeat_words(data, 0.1)"
   ]
  },
  {
   "cell_type": "code",
   "execution_count": 7,
   "metadata": {},
   "outputs": [
    {
     "output_type": "execute_result",
     "data": {
      "text/plain": [
       "'(CNN) -- Usain Bolt rounded off the world championships Sunday by claiming his third gold in Moscow as he anchored Jamaica to victory in the men\\'s 4x100m relay. The fastest man in the world charged clear of United States rival Justin Gatlin as the Jamaican quartet of Nesta Carter, Kemar Bailey-Cole, Nickel Ashmeade and Bolt won in 37.36 seconds. The U.S finished second in 37.56 seconds with Canada taking the bronze after Britain were disqualified for a faulty handover. The 26-year-old Bolt has now collected eight gold medals at world championships, equaling the record held by American trio Carl Lewis, Michael Johnson and Allyson Felix, not to mention the small matter of six Olympic titles. The relay triumph followed individual successes in the 100 and 200 meters in the Russian capital. \"I\\'m proud of myself and I\\'ll continue to work to dominate for as long as possible,\" Bolt said, having previously expressed his intention to carry on until the 2016 Rio Olympics. Victory was never seriously in doubt once he got the baton safely in hand from Ashmeade, while Gatlin and the United States third leg runner Rakieem Salaam had problems. Gatlin strayed out of his lane as he struggled to get full control of their baton and was never able to get on terms with Bolt. Earlier, Jamaica\\'s women underlined their dominance in the sprint events by winning the 4x100m relay gold, anchored by Shelly-Ann Fraser-Pryce, who like Bolt was completing a triple. Their quartet recorded a championship record of 41.29 seconds, well clear of France, who crossed the line in second place in 42.73 seconds. Defending champions, the United States, were initially back in the bronze medal position after losing time on the second handover between Alexandria Anderson and English Gardner, but promoted to silver when France were subsequently disqualified for an illegal handover. The British quartet, who were initially fourth, were promoted to the bronze which eluded their men\\'s team. Fraser-Pryce, like Bolt aged 26, became the first woman to achieve three golds in the 100-200 and the relay. In other final action on the last day of the championships, France\\'s Teddy Tamgho became the third man to leap over 18m in the triple jump, exceeding the mark by four centimeters to take gold. Germany\\'s Christina Obergfoll finally took gold at global level in the women\\'s javelin after five previous silvers, while Kenya\\'s Asbel Kiprop easily won a tactical men\\'s 1500m final. Kiprop\\'s compatriot Eunice Jepkoech Sum was a surprise winner of the women\\'s 800m. Bolt\\'s final dash for golden glory brought the eight-day championship to a rousing finale, but while the hosts topped the medal table from the United States there was criticism of the poor attendances in the Luzhniki Stadium. There was further concern when their pole vault gold medalist Yelena Isinbayeva made controversial remarks in support of Russia\\'s new laws, which make \"the propagandizing of non-traditional sexual relations among minors\" a criminal offense. She later attempted to clarify her comments, but there were renewed calls by gay rights groups for a boycott of the 2014 Winter Games in Sochi, the next major sports event in Russia.'"
      ]
     },
     "metadata": {},
     "execution_count": 7
    }
   ],
   "source": []
  },
  {
   "cell_type": "code",
   "execution_count": null,
   "metadata": {},
   "outputs": [],
   "source": []
  }
 ],
 "metadata": {
  "kernelspec": {
   "name": "python38564biteecc030c0a5c4e8bb53163bec15b264f",
   "display_name": "Python 3.8.5 64-bit"
  },
  "language_info": {
   "codemirror_mode": {
    "name": "ipython",
    "version": 3
   },
   "file_extension": ".py",
   "mimetype": "text/x-python",
   "name": "python",
   "nbconvert_exporter": "python",
   "pygments_lexer": "ipython3",
   "version": "3.8.5"
  },
  "metadata": {
   "interpreter": {
    "hash": "31f2aee4e71d21fbe5cf8b01ff0e069b9275f58929596ceb00d14d90e3e16cd6"
   }
  }
 },
 "nbformat": 4,
 "nbformat_minor": 2
}