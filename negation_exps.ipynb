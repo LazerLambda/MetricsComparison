{
 "cells": [
  {
   "source": [
    "# IMPORT\n",
    "\n",
    "Download dataset CNN / Dailymail"
   ],
   "cell_type": "markdown",
   "metadata": {}
  },
  {
   "cell_type": "code",
   "execution_count": 30,
   "metadata": {},
   "outputs": [
    {
     "output_type": "stream",
     "name": "stderr",
     "text": [
      "Reusing dataset cnn_dailymail (/home/philko/.cache/huggingface/datasets/cnn_dailymail/3.0.0/3.0.0/0128610a44e10f25b4af6689441c72af86205282d26399642f7db38fa7535602)\n"
     ]
    }
   ],
   "source": [
    "import checklist\n",
    "import math\n",
    "import nltk\n",
    "import random\n",
    "import spacy\n",
    "\n",
    "from datasets import load_dataset\n",
    "from checklist.perturb import Perturb\n",
    "\n",
    "\n",
    "nlp = spacy.load(\"en_core_web_sm\")\n",
    "data_set = load_dataset('cnn_dailymail', '3.0.0')\n",
    "\n",
    "\n"
   ]
  },
  {
   "cell_type": "code",
   "execution_count": 22,
   "metadata": {
    "tags": []
   },
   "outputs": [
    {
     "output_type": "execute_result",
     "data": {
      "text/plain": [
       "[[\"(CNN) -- Usain Bolt didn't round off the world championships Sunday by claiming his third gold in Moscow as he anchored Jamaica to victory in the men's 4x100m relay.\"]]"
      ]
     },
     "metadata": {},
     "execution_count": 22
    }
   ],
   "source": [
    "\n",
    "i = 1\n",
    "\n",
    "sentences = nltk.sent_tokenize(data_set['train'][i]['article'])\n",
    "data = list(nlp.pipe(sentences))\n",
    "\n",
    "ret = Perturb.perturb([data[0]], Perturb.add_negation, keep_original=False)\n",
    "ret.data"
   ]
  },
  {
   "cell_type": "code",
   "execution_count": 156,
   "metadata": {
    "tags": []
   },
   "outputs": [],
   "source": [
    "def perturb_data(text : str, percentage : float) -> list:\n",
    "    \"\"\" Perturbation function\n",
    "\n",
    "    Parameters\n",
    "    ----------\n",
    "    text : str\n",
    "        text, passed as a raw string.\n",
    "    percentage : float\n",
    "        float, in [0,1] which controls the amount of perturbated samples.\n",
    "    \n",
    "    Returns\n",
    "    -------\n",
    "    list\n",
    "        Altered document which consists as a lis of documents\n",
    "\n",
    "    Raises\n",
    "    ------\n",
    "    Exception\n",
    "        if percentage is not in the interval [0,1]\n",
    "    \"\"\"\n",
    "\n",
    "    if percentage < 0 or percentage > 1:\n",
    "        raise Exception(\"ERROR: percentage must be in [0,1].\")\n",
    "\n",
    "    sentences = nltk.sent_tokenize(text)\n",
    "    # indices = random.sample(range(len(sentences)), math.floor(percentage * len(sentences)))\n",
    "    doc = list(nlp.pipe(sentences)) # type some spacy doc\n",
    "\n",
    "    loopCond : bool = True\n",
    "\n",
    "    while loopCond:\n",
    "\n",
    "        indices = random.sample(range(len(sentences)), math.floor(percentage * len(sentences)))\n",
    "\n",
    "        for i in indices:\n",
    "\n",
    "            ret = None\n",
    "\n",
    "            try:\n",
    "                ret = Perturb.perturb([doc[i]], Perturb.add_negation, keep_original=False)\n",
    "                if len(ret.data) > 0:\n",
    "                    sentences[i] = ret.data[0][0]\n",
    "                else:\n",
    "                    loopCond = False\n",
    "\n",
    "            except TypeError:\n",
    "                # print(\"Negation didn't work. Another comination will be tried.\")\n",
    "                loopCond = True\n",
    "\n",
    "            loopCond = False\n",
    "\n",
    "    return sentences\n",
    "\n",
    "# perturb_data(data_set['test'][0]['article'], 0.1)\n",
    "for e in range(100):\n",
    "    perturb_data(data_set['test'][0]['article'], 1)"
   ]
  },
  {
   "cell_type": "code",
   "execution_count": null,
   "metadata": {},
   "outputs": [],
   "source": [
    " def negateFun(ind : int) -> str:\n",
    "        retVal : list = Perturb.perturb([doc[ind]], Perturb.add_negation, keep_original=False)\n",
    "        print(retVal)\n",
    "        print(bool(retVal['data']))\n",
    "        if bool(retVal['data']) == False:\n",
    "            return []\n",
    "        else:\n",
    "            return retVal['data'][0]\n",
    "\n",
    "    indices = []\n",
    "    while True:\n",
    "        indices = random.sample(range(len(sentences)), math.floor(percentage * len(sentences)))\n",
    "\n",
    "        negations = list(map(negateFun, indices))\n",
    "\n",
    "        print(negations)\n",
    "\n",
    "        if True in list(map(lambda x : len(x) == 0, negations)):\n",
    "            break\n",
    "    \n",
    "        print(indices)\n",
    "\n",
    "    counter = 0\n",
    "    for i in indices:\n",
    "        sentences[i] = negations[counter][0]\n",
    "        counter += 1"
   ]
  },
  {
   "cell_type": "code",
   "execution_count": 79,
   "metadata": {},
   "outputs": [
    {
     "output_type": "execute_result",
     "data": {
      "text/plain": [
       "['(CNN)James Best, best known for his portrayal of bumbling sheriff Rosco P. Coltrane on TV\\'s \"The Dukes of Hazzard,\" died Monday after a brief illness.',\n",
       " 'He was 88.',\n",
       " 'Best died in hospice in Hickory, North Carolina, of complications from pneumonia, said Steve Latshaw, a longtime friend and Hollywood colleague.',\n",
       " 'Although he\\'d been a busy actor for decades in theater and in Hollywood, Best didn\\'t become famous until 1979, when \"The Dukes of Hazzard\\'s\" cornpone charms began beaming into millions of American homes almost every Friday night.',\n",
       " 'For seven seasons, Best\\'s Rosco P. Coltrane chased the moonshine-running Duke boys back and forth across the back roads of fictitious Hazzard County, Georgia, although his \"hot pursuit\" usually ended with him crashing his patrol car.',\n",
       " 'Although Rosco was slow-witted and corrupt, Best gave him a childlike enthusiasm that got laughs and made him endearing.',\n",
       " 'His character became known for his distinctive \"kew-kew-kew\" chuckle and for goofy catchphrases such as \"cuff \\'em and stuff \\'em!\"',\n",
       " 'upon making an arrest.',\n",
       " 'Among the most popular shows on TV in the early \\'80s, \"The Dukes of Hazzard\" ran until 1985 and spawned TV movies, an animated series and video games.',\n",
       " 'Several of Best\\'s \"Hazzard\" co-stars paid tribute to the late actor on social media.',\n",
       " '\"I laughed and learned more from Jimmie in one hour than from anyone else in a whole year,\" co-star John Schneider, who played Bo Duke, said on Twitter.',\n",
       " '\"Give Uncle Jesse my love when you see him dear friend.\"',\n",
       " '\"Jimmy Best was the most constantly creative person I have ever known,\" said Ben Jones, who played mechanic Cooter on the show, in a Facebook post.',\n",
       " '\"Every minute of his long life was spent acting, writing, producing, painting, teaching, fishing, or involved in another of his life\\'s many passions.\"',\n",
       " 'Born Jewel Guy on July 26, 1926, in Powderly, Kentucky, Best was orphaned at 3 and adopted by Armen and Essa Best, who renamed him James and raised him in rural Indiana.',\n",
       " 'Best served in the Army during World War II before launching his acting career.',\n",
       " 'In the 1950s and 1960s, he accumulated scores of credits, playing a range of colorful supporting characters in such TV shows as \"The Twilight Zone,\" \"Bonanza,\" \"The Andy Griffith Show\" and \"Gunsmoke.\"',\n",
       " 'He later appeared in a handful of Burt Reynolds\\' movies, including \"Hooper\" and \"The End.\"',\n",
       " 'But Best will always be best known for his \"Hazzard\" role, which lives on in reruns.',\n",
       " '\"Jimmie was my teacher, mentor, close friend and collaborator for 26 years,\" Latshaw said.',\n",
       " '\"I directed two of his feature films, including the recent \\'Return of the Killer Shrews,\\' a sequel he co-wrote and was quite proud of as he had made the first one more than 50 years earlier.\"',\n",
       " \"People we've lost in 2015 .\",\n",
       " \"CNN's Stella Chan contributed to this story.\"]"
      ]
     },
     "metadata": {},
     "execution_count": 79
    }
   ],
   "source": [
    "sentences = nltk.sent_tokenize(data_set['test'][0]['article'])\n",
    "sentences"
   ]
  },
  {
   "cell_type": "code",
   "execution_count": null,
   "metadata": {},
   "outputs": [],
   "source": []
  }
 ],
 "metadata": {
  "kernelspec": {
   "name": "python38564biteecc030c0a5c4e8bb53163bec15b264f",
   "display_name": "Python 3.8.5 64-bit"
  },
  "language_info": {
   "codemirror_mode": {
    "name": "ipython",
    "version": 3
   },
   "file_extension": ".py",
   "mimetype": "text/x-python",
   "name": "python",
   "nbconvert_exporter": "python",
   "pygments_lexer": "ipython3",
   "version": "3.8.5-final"
  },
  "metadata": {
   "interpreter": {
    "hash": "31f2aee4e71d21fbe5cf8b01ff0e069b9275f58929596ceb00d14d90e3e16cd6"
   }
  }
 },
 "nbformat": 4,
 "nbformat_minor": 2
}