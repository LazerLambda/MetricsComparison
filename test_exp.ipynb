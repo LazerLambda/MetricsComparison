{
 "metadata": {
  "language_info": {
   "codemirror_mode": {
    "name": "ipython",
    "version": 3
   },
   "file_extension": ".py",
   "mimetype": "text/x-python",
   "name": "python",
   "nbconvert_exporter": "python",
   "pygments_lexer": "ipython3",
   "version": "3.8.5"
  },
  "orig_nbformat": 2,
  "kernelspec": {
   "name": "python38564biteecc030c0a5c4e8bb53163bec15b264f",
   "display_name": "Python 3.8.5 64-bit"
  },
  "metadata": {
   "interpreter": {
    "hash": "31f2aee4e71d21fbe5cf8b01ff0e069b9275f58929596ceb00d14d90e3e16cd6"
   }
  }
 },
 "nbformat": 4,
 "nbformat_minor": 2,
 "cells": [
  {
   "cell_type": "code",
   "execution_count": 1,
   "metadata": {},
   "outputs": [
    {
     "output_type": "stream",
     "name": "stderr",
     "text": [
      "/home/philko/.local/lib/python3.8/site-packages/torch/cuda/__init__.py:52: UserWarning: CUDA initialization: Found no NVIDIA driver on your system. Please check that you have an NVIDIA GPU and installed a driver from http://www.nvidia.com/Download/index.aspx (Triggered internally at  /pytorch/c10/cuda/CUDAFunctions.cpp:100.)\n  return torch._C._cuda_getDeviceCount() > 0\n"
     ]
    }
   ],
   "source": [
    "import nltk\n",
    "\n",
    "from Experiment import Experiment\n",
    "from Metrics import Metrics"
   ]
  },
  {
   "cell_type": "code",
   "execution_count": 2,
   "metadata": {},
   "outputs": [],
   "source": [
    "    def tokenize_sentences(text : str) -> list:\n",
    "        return nltk.sent_tokenize(text)"
   ]
  },
  {
   "cell_type": "code",
   "execution_count": 3,
   "metadata": {},
   "outputs": [
    {
     "output_type": "stream",
     "name": "stderr",
     "text": [
      "Reusing dataset cnn_dailymail (/home/philko/.cache/huggingface/datasets/cnn_dailymail/3.0.0/3.0.0/0128610a44e10f25b4af6689441c72af86205282d26399642f7db38fa7535602)\n"
     ]
    }
   ],
   "source": [
    "exp : Experiment = Experiment()\n",
    "exp.sample(2)\n",
    "exp.perturb_data(10)\n"
   ]
  },
  {
   "cell_type": "code",
   "execution_count": 4,
   "metadata": {},
   "outputs": [],
   "source": [
    "cand = exp.deteriorated_data['word_drop'][10][1][0]\n",
    "ref = tokenize_sentences(exp.data_ref[0])\n",
    "# exp.deteriorated_data['word_swap'][10]"
   ]
  },
  {
   "cell_type": "code",
   "execution_count": 5,
   "metadata": {},
   "outputs": [
    {
     "output_type": "stream",
     "name": "stdout",
     "text": [
      "{'Peterson': 1.0, 'Schnabel': 1.0, 'CAPTURE': 0.9827586206896551}\n",
      "INFO:tensorflow:Reading checkpoint bleurt/bleurt/test_checkpoint.\n",
      "INFO:tensorflow:Config file found, reading.\n",
      "INFO:tensorflow:Will load checkpoint dbleurt_tiny\n",
      "INFO:tensorflow:Loads full paths and checks that files exists.\n",
      "INFO:tensorflow:... name:dbleurt_tiny\n",
      "INFO:tensorflow:... vocab_file:vocab.txt\n",
      "INFO:tensorflow:... bert_config_file:bert_config.json\n",
      "INFO:tensorflow:... do_lower_case:True\n",
      "INFO:tensorflow:... max_seq_length:512\n",
      "INFO:tensorflow:Creating BLEURT scorer.\n",
      "INFO:tensorflow:Creating WordPiece tokenizer.\n",
      "INFO:tensorflow:WordPiece tokenizer instantiated.\n",
      "INFO:tensorflow:Creating Eager Mode predictor.\n",
      "INFO:tensorflow:Loading model.\n",
      "INFO:tensorflow:BLEURT initialized.\n",
      "{'BLEURT': [0.8536974787712097, 0.844110906124115, 0.8439981937408447, 0.608144998550415, 0.875977635383606, 0.875240683555603, 0.4018515348434448, 0.8106988668441772, 0.8469650149345398, 0.7997710108757019, 0.8652905225753784, 0.8174558281898499, 0.8507363796234131, 0.8739465475082397, 0.652162492275238, 0.4923890233039856, 0.7414825558662415, 0.8677992224693298, 0.9179354310035706, 0.8658876419067383, 0.8786736130714417, 0.8488492369651794, 0.8470184803009033, 0.5993297100067139, 0.8594324588775635, 0.8634123802185059, 0.9159419536590576, 0.8703606724739075, 0.5088076591491699]}\n",
      "/home/philko/.local/lib/python3.8/site-packages/transformers/tokenization_utils_base.py:1372: FutureWarning: The `max_len` attribute has been deprecated and will be removed in a future version, use `model_max_length` instead.\n",
      "  warnings.warn(\n",
      "{'P': tensor([1.0000, 0.9906, 1.0000, 0.9839, 1.0000, 1.0000, 0.9819, 0.9906, 1.0000,\n",
      "        0.9950, 1.0000, 0.9965, 1.0000, 1.0000, 0.9852, 0.9812, 0.9804, 1.0000,\n",
      "        1.0000, 0.9846, 1.0000, 1.0000, 1.0000, 0.9739, 1.0000, 1.0000, 1.0000,\n",
      "        1.0000, 0.9885]), 'R': tensor([1.0000, 0.9874, 1.0000, 0.9832, 1.0000, 1.0000, 0.9845, 0.9932, 1.0000,\n",
      "        0.9938, 1.0000, 0.9920, 1.0000, 1.0000, 0.9849, 0.9729, 0.9777, 1.0000,\n",
      "        1.0000, 0.9852, 1.0000, 1.0000, 1.0000, 0.9770, 1.0000, 1.0000, 1.0000,\n",
      "        1.0000, 0.9768]), 'F1': tensor([1.0000, 0.9890, 1.0000, 0.9835, 1.0000, 1.0000, 0.9832, 0.9919, 1.0000,\n",
      "        0.9944, 1.0000, 0.9942, 1.0000, 1.0000, 0.9850, 0.9770, 0.9791, 1.0000,\n",
      "        1.0000, 0.9849, 1.0000, 1.0000, 1.0000, 0.9755, 1.0000, 1.0000, 1.0000,\n",
      "        1.0000, 0.9826])}\n"
     ]
    }
   ],
   "source": [
    "print(Metrics.comp_ME(cand=cand, ref=ref))\n",
    "print(Metrics.comp_BLEURT(cand=cand, ref=ref))\n",
    "print(Metrics.comp_BERTScore(cand=cand, ref=ref))"
   ]
  },
  {
   "cell_type": "code",
   "execution_count": 9,
   "metadata": {},
   "outputs": [
    {
     "output_type": "execute_result",
     "data": {
      "text/plain": [
       "['Boston, Massachusetts (CNN) -- An Alabama professor accused of gunning down her colleagues at a university last week faced criminal charges after an altercation at a Massachusetts restaurant nearly eight years ago, police said Wednesday.',\n",
       " 'It the latest incident to surface involving Amy Bishop, a biology professor who is charged with capital murder and three counts of attempted murder in the shootings at the University of Alabama in Huntsville last week.',\n",
       " 'Police in Peabody, Massachusetts, were called to an International House of Pancakes restaurant on March 16, 2002, on a report of an assault, according to a report from the Peabody Police Department.',\n",
       " 'Responding officers found a crying woman who was the alleged victimthe report said.',\n",
       " 'The woman, identified in the report as Michelle Gjika, told police she and her two children had been seated for breakfast.',\n",
       " '\"Soon after another family with the defendant Amy Bishop was seated in a booth nearby,\" the report said.',\n",
       " 'Gjika \"then asked the waitress for a booster seat for one of the and the waitress brought one over.',\n",
       " 'The defendant Amy Bishop then also asked the waitress for a booster seat but Amy was told by the waitress that there no more booster seats.',\n",
       " '\"The defendant ... then became angry that [Gjika] had the last booster seat and made the comment, \\'But we were here first,\\' \" the report said .',\n",
       " 'She then became loud and abusive to the woman, the report said, shouting profanity at her and at point saying, \"I am Dr. Amy Bishop.\"',\n",
       " 'Bishop was asked to stop using profanity, but continued to verbally abuse the woman, becoming so loud that she was heard throughout the restaurant, police said.',\n",
       " 'The IHOP manager told police Bishop was acting \"like a crazy person.\"',\n",
       " \"The manager asked Bishop to leave, and Bishop struck the other woman on the right side of her head in front of the woman's two children, the report said.\",\n",
       " 'After she left the restaurant, the manager wrote down the license plate number of her red 1988 Ford Taurus.',\n",
       " 'Authorities interviewed the victim and witnesses and contacted Bishop, who said that Gjika had been the aggressor, but her account did not match what others said about the ',\n",
       " 'Bishop was charged with assault and battery and conduct, police said.',\n",
       " 'The Essex County district attorney a year of probation and anger management classes, but Bishop instead admitted that there was sufficient evidence to prosecute her for disorderly conduct and assault and battery and agreed not to contact Gjika, according to court documents.',\n",
       " \"She was put on unsupervised probation for six months, according to Steve O'Connell, a spokesman for the Essex County district attorney.\",\n",
       " 'Gjika did not return a call from CNN.',\n",
       " \"Authorities previously have said Bishop, who is also known as Amy Bishop Anderson, fatally shot her brother in the family's Braintree, Massachusetts, home 1986.\",\n",
       " 'The shooting was ruled accidental, but authorities said Tuesday that previously missing police records of the incident had been found.',\n",
       " 'Probable cause existed in 1986 to charge Bishop with assault with a dangerous weapon, carrying a dangerous weapon and unlawful possession of ammunition, Norfolk County District Attorney William Keating said in a statement.',\n",
       " 'However, the statute of limitations on those charges has expired, as well as on a potential charge of \"wanton and reckless conduct,\" the lowest standard for manslaughter in Massachusetts, he said.',\n",
       " \"And in effect, the recovered documents do not contradict investigators' conclusion at the time that the shooting was an  according to the statement.\",\n",
       " 'In addition, The Boston Globe reported Monday that Bishop and her husband, Jim Anderson, were questioned in the 1993 attempted mail bombing of a Harvard Medical School professor.',\n",
       " 'Jim Anderson told CNN on Monday that federal investigators had gathered \"a dozen subjects\" in the attempted bombing, but \"there were never any suspects.',\n",
       " 'Never anyone charged, never anyone arrested.',\n",
       " \"Then five years later, we got a letter from the ATF saying, 'You are in the clear.'\",\n",
       " '\" CNN\\'s Cooper and Brooke Baldwin contributed to this report.']"
      ]
     },
     "metadata": {},
     "execution_count": 9
    }
   ],
   "source": [
    "exp.deteriorated_data['word_drop'][10][1][1]\n",
    "cand"
   ]
  },
  {
   "cell_type": "code",
   "execution_count": 7,
   "metadata": {},
   "outputs": [
    {
     "output_type": "execute_result",
     "data": {
      "text/plain": [
       "['Boston, Massachusetts (CNN) -- An Alabama professor accused of gunning down her colleagues at a university last week faced criminal charges after an altercation at a Massachusetts restaurant nearly eight years ago, police said Wednesday.',\n",
       " 'It was the latest incident to surface involving Amy Bishop, a biology professor who is charged with capital murder and three counts of attempted murder in the shootings at the University of Alabama in Huntsville last week.',\n",
       " 'Police in Peabody, Massachusetts, were called to an International House of Pancakes restaurant on March 16, 2002, on a report of an assault, according to a report from the Peabody Police Department.',\n",
       " 'Responding officers found a crying woman who was the alleged victim, the report said.',\n",
       " 'The woman, identified in the report as Michelle Gjika, told police she and her two children had been seated for breakfast.',\n",
       " '\"Soon after another family with the defendant Amy Bishop was seated in a booth nearby,\" the report said.',\n",
       " 'Gjika \"then asked the waitress for a booster seat for one of the children and the waitress brought one over.',\n",
       " 'The defendant Amy Bishop then also asked the waitress for a booster seat but Amy was told by the waitress that there were no more booster seats.',\n",
       " '\"The defendant ... then became angry that [Gjika] had the last booster seat and made the comment, \\'But we were here first,\\' \" the report said .',\n",
       " 'She then became loud and abusive to the woman, the report said, shouting profanity at her and at one point saying, \"I am Dr. Amy Bishop.\"',\n",
       " 'Bishop was asked to stop using profanity, but continued to verbally abuse the woman, becoming so loud that she was heard throughout the restaurant, police said.',\n",
       " 'The IHOP manager told police that Bishop was acting \"like a crazy person.\"',\n",
       " \"The manager asked Bishop to leave, and Bishop struck the other woman on the right side of her head in front of the woman's two children, the report said.\",\n",
       " 'After she left the restaurant, the manager wrote down the license plate number of her red 1988 Ford Taurus.',\n",
       " 'Authorities interviewed the victim and witnesses and contacted Bishop, who said that Gjika had been the aggressor, but her account did not match what others said about the incident.',\n",
       " 'Bishop was charged with assault and battery and disorderly conduct, police said.',\n",
       " 'The Essex County district attorney recommended a year of probation and anger management classes, but Bishop instead admitted that there was sufficient evidence to prosecute her for disorderly conduct and assault and battery and agreed not to contact Gjika, according to court documents.',\n",
       " \"She was put on unsupervised probation for six months, according to Steve O'Connell, a spokesman for the Essex County district attorney.\",\n",
       " 'Gjika did not return a call from CNN.',\n",
       " \"Authorities previously have said Bishop, who is also known as Amy Bishop Anderson, fatally shot her brother in the family's Braintree, Massachusetts, home in 1986.\",\n",
       " 'The shooting was ruled accidental, but authorities said Tuesday that previously missing police records of the incident had been found.',\n",
       " 'Probable cause existed in 1986 to charge Bishop with assault with a dangerous weapon, carrying a dangerous weapon and unlawful possession of ammunition, Norfolk County District Attorney William Keating said in a statement.',\n",
       " 'However, the statute of limitations on those charges has expired, as well as on a potential charge of \"wanton and reckless conduct,\" the lowest standard for manslaughter in Massachusetts, he said.',\n",
       " \"And in effect, the recovered documents do not contradict investigators' conclusion at the time that the shooting was an accident, according to the statement.\",\n",
       " 'In addition, The Boston Globe reported Monday that Bishop and her husband, Jim Anderson, were questioned in the 1993 attempted mail bombing of a Harvard Medical School professor.',\n",
       " 'Jim Anderson told CNN on Monday that federal investigators had gathered \"a dozen subjects\" in the attempted bombing, but \"there were never any suspects.',\n",
       " 'Never anyone charged, never anyone arrested.',\n",
       " \"Then five years later, we got a letter from the ATF saying, 'You are in the clear.'\",\n",
       " '\" CNN\\'s Aaron Cooper and Brooke Baldwin contributed to this report.']"
      ]
     },
     "metadata": {},
     "execution_count": 7
    }
   ],
   "source": [
    "ref"
   ]
  },
  {
   "cell_type": "code",
   "execution_count": null,
   "metadata": {},
   "outputs": [],
   "source": []
  }
 ]
}