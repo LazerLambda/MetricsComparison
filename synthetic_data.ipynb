{
 "cells": [
  {
   "source": [
    "# IMPORT\n",
    "\n",
    "Download dataset CNN / Dailymail"
   ],
   "cell_type": "markdown",
   "metadata": {}
  },
  {
   "cell_type": "code",
   "execution_count": 1,
   "metadata": {},
   "outputs": [],
   "source": [
    "import checklist\n",
    "import math\n",
    "import nltk\n",
    "import numpy as np\n",
    "import random\n",
    "import spacy\n",
    "\n",
    "from checklist.perturb import Perturb\n",
    "from datasets import load_dataset\n",
    "from progress.bar import ShadyBar\n",
    "from typing import Tuple\n",
    "\n",
    "\n"
   ]
  },
  {
   "source": [
    "### Import example dataset"
   ],
   "cell_type": "markdown",
   "metadata": {}
  },
  {
   "cell_type": "code",
   "execution_count": 2,
   "metadata": {},
   "outputs": [
    {
     "output_type": "stream",
     "name": "stderr",
     "text": [
      "Reusing dataset cnn_dailymail (/home/philko/.cache/huggingface/datasets/cnn_dailymail/3.0.0/3.0.0/0128610a44e10f25b4af6689441c72af86205282d26399642f7db38fa7535602)\n",
      "/home/philko/.local/lib/python3.8/site-packages/torch/cuda/__init__.py:52: UserWarning: CUDA initialization: Found no NVIDIA driver on your system. Please check that you have an NVIDIA GPU and installed a driver from http://www.nvidia.com/Download/index.aspx (Triggered internally at  /pytorch/c10/cuda/CUDAFunctions.cpp:100.)\n",
      "  return torch._C._cuda_getDeviceCount() > 0\n"
     ]
    }
   ],
   "source": [
    "\n",
    "nlp = spacy.load(\"en_core_web_sm\")\n",
    "data_set = load_dataset('cnn_dailymail', '3.0.0')"
   ]
  },
  {
   "source": [
    "## Negation"
   ],
   "cell_type": "markdown",
   "metadata": {}
  },
  {
   "cell_type": "code",
   "execution_count": 5,
   "metadata": {
    "tags": []
   },
   "outputs": [],
   "source": [
    "def perturb_data(text : str, percentage : float) -> list:\n",
    "    \"\"\" Perturbation function\n",
    "\n",
    "    Parameters\n",
    "    ----------\n",
    "    text : str\n",
    "        text, passed as a string.\n",
    "    percentage : float\n",
    "        float, in [0,1] which controls the amount of perturbated samples.\n",
    "    \n",
    "    Returns\n",
    "    -------\n",
    "    list\n",
    "        list of sentences\n",
    "\n",
    "    Raises\n",
    "    ------\n",
    "    Exception\n",
    "        if percentage is not in the interval [0,1]\n",
    "    \"\"\"\n",
    "\n",
    "    if percentage < 0 or percentage > 1:\n",
    "        raise Exception(\"ERROR: percentage must be in [0,1].\")\n",
    "\n",
    "    sentences = nltk.sent_tokenize(text)\n",
    "    doc = list(nlp.pipe(sentences))\n",
    "\n",
    "    loopCond : bool = True\n",
    "    maxLen : int = len(sentences)\n",
    "    counter : int = 0\n",
    "\n",
    "    while loopCond:\n",
    "\n",
    "        if counter > maxLen:\n",
    "            print(\"Couldn't find proper negations.\")\n",
    "            loopCond = False\n",
    "\n",
    "        indices = random.sample(range(len(sentences)), math.floor(percentage * len(sentences)))\n",
    "\n",
    "        for i in indices:\n",
    "\n",
    "            ret = None\n",
    "\n",
    "            try:\n",
    "                ret = Perturb.perturb([doc[i]], Perturb.add_negation, keep_original=False)\n",
    "                if len(ret.data) > 0:\n",
    "                    sentences[i] = ret.data[0][0]\n",
    "                    print(f\"Sentence %i: Negated.\" % i)\n",
    "                else:\n",
    "                    loopCond = False\n",
    "\n",
    "            except TypeError:\n",
    "                print(\"Couldn't find proper negation. Another sentence will be tried.\")\n",
    "                loopCond = True\n",
    "\n",
    "            loopCond = False\n",
    "        \n",
    "        counter += 1\n",
    "\n",
    "    return sentences\n",
    "\n"
   ]
  },
  {
   "source": [
    "### Test"
   ],
   "cell_type": "markdown",
   "metadata": {}
  },
  {
   "cell_type": "code",
   "execution_count": 6,
   "metadata": {},
   "outputs": [
    {
     "output_type": "stream",
     "name": "stdout",
     "text": [
      "Sentence 15: Negated.\nSentence 1: Negated.\n['(CNN)James Best, best known for his portrayal of bumbling sheriff Rosco P. Coltrane on TV\\'s \"The Dukes of Hazzard,\" died Monday after a brief illness.', 'He was not 88.', 'Best died in hospice in Hickory, North Carolina, of complications from pneumonia, said Steve Latshaw, a longtime friend and Hollywood colleague.', 'Although he\\'d been a busy actor for decades in theater and in Hollywood, Best didn\\'t become famous until 1979, when \"The Dukes of Hazzard\\'s\" cornpone charms began beaming into millions of American homes almost every Friday night.', 'For seven seasons, Best\\'s Rosco P. Coltrane chased the moonshine-running Duke boys back and forth across the back roads of fictitious Hazzard County, Georgia, although his \"hot pursuit\" usually ended with him crashing his patrol car.', 'Although Rosco was slow-witted and corrupt, Best gave him a childlike enthusiasm that got laughs and made him endearing.', 'His character became known for his distinctive \"kew-kew-kew\" chuckle and for goofy catchphrases such as \"cuff \\'em and stuff \\'em!\"', 'upon making an arrest.', 'Among the most popular shows on TV in the early \\'80s, \"The Dukes of Hazzard\" ran until 1985 and spawned TV movies, an animated series and video games.', 'Several of Best\\'s \"Hazzard\" co-stars paid tribute to the late actor on social media.', '\"I laughed and learned more from Jimmie in one hour than from anyone else in a whole year,\" co-star John Schneider, who played Bo Duke, said on Twitter.', '\"Give Uncle Jesse my love when you see him dear friend.\"', '\"Jimmy Best was the most constantly creative person I have ever known,\" said Ben Jones, who played mechanic Cooter on the show, in a Facebook post.', '\"Every minute of his long life was spent acting, writing, producing, painting, teaching, fishing, or involved in another of his life\\'s many passions.\"', 'Born Jewel Guy on July 26, 1926, in Powderly, Kentucky, Best was orphaned at 3 and adopted by Armen and Essa Best, who renamed him James and raised him in rural Indiana.', \"Best didn't serve in the Army during World War II before launching his acting career.\", 'In the 1950s and 1960s, he accumulated scores of credits, playing a range of colorful supporting characters in such TV shows as \"The Twilight Zone,\" \"Bonanza,\" \"The Andy Griffith Show\" and \"Gunsmoke.\"', 'He later appeared in a handful of Burt Reynolds\\' movies, including \"Hooper\" and \"The End.\"', 'But Best will always be best known for his \"Hazzard\" role, which lives on in reruns.', '\"Jimmie was my teacher, mentor, close friend and collaborator for 26 years,\" Latshaw said.', '\"I directed two of his feature films, including the recent \\'Return of the Killer Shrews,\\' a sequel he co-wrote and was quite proud of as he had made the first one more than 50 years earlier.\"', \"People we've lost in 2015 .\", \"CNN's Stella Chan contributed to this story.\"]\nNegated 0.100000 of data 0\n"
     ]
    }
   ],
   "source": [
    "n_test = 1\n",
    "\n",
    "for e in range(n_test):\n",
    "    perc_random = 0.1\n",
    "    print(perturb_data(data_set['test'][0]['article'], perc_random))\n",
    "    print(f\"Negated %f of data %i\" % (perc_random, e))"
   ]
  },
  {
   "source": [
    "## Word repetitions"
   ],
   "cell_type": "markdown",
   "metadata": {}
  },
  {
   "cell_type": "code",
   "execution_count": 7,
   "metadata": {},
   "outputs": [],
   "source": [
    "def createRepetitions(sentences, tokens, sentence, phraseLength, nTimes):\n",
    "    \"\"\"\n",
    "    \"\"\"\n",
    "    # subtract 1 because of indexing\n",
    "    for i in reversed(range(phraseLength - 1, len(tokens))):\n",
    "        token_slice = tokens[(i - phraseLength):i]\n",
    "        if not True in [token.pos_ == 'PUNCT' for token in token_slice]:\n",
    "            rep = \" \".join([token.text for token in token_slice])\n",
    "\n",
    "            further_tokens = \" \".join([token.text for token in tokens[i:len(tokens)]])\n",
    "            index = tokens[i].idx\n",
    "\n",
    "            sentences[sentence] = sentences[sentence][0:index] + \" \" + rep + further_tokens\n",
    "            print(f\"Repetition for a phrase with %i words %i times added. Sentence No.: %i\" % (phraseLength, nTimes, sentence))\n",
    "            break\n",
    "\n",
    "        else:\n",
    "            continue\n",
    "\n",
    "\n",
    "\n",
    "def repeat_words(text : str, probability : float, nTimes : int = 3, phraseLength : int = 4) -> list:\n",
    "    \"\"\"\n",
    "    \"\"\"\n",
    "    if probability > 1 or probability < 0:\n",
    "        print(\"probability must be in [0,1]\")\n",
    "        return []\n",
    "\n",
    "    sentences = nltk.sent_tokenize(text)\n",
    "    for sentence in range(len(sentences)):\n",
    "        \n",
    "        # if function returns 1, repeat phrase\n",
    "        if bool(np.random.binomial(size=1, n=1, p= probability)):\n",
    "\n",
    "            tokens = nlp(sentences[sentence])\n",
    "\n",
    "            if len(tokens) <= phraseLength:\n",
    "                continue\n",
    "\n",
    "            createRepetitions(sentences=sentences, tokens=tokens, sentence=sentence, phraseLength=phraseLength, nTimes=nTimes)\n",
    "    \n",
    "    return sentences\n",
    "\n",
    "            \n"
   ]
  },
  {
   "source": [
    "### Test"
   ],
   "cell_type": "markdown",
   "metadata": {}
  },
  {
   "cell_type": "code",
   "execution_count": 8,
   "metadata": {},
   "outputs": [
    {
     "output_type": "stream",
     "name": "stdout",
     "text": [
      "Repetition for a phrase with 3 words 2 times added. Sentence No.: 0\n"
     ]
    },
    {
     "output_type": "execute_result",
     "data": {
      "text/plain": [
       "[\"CNN's Stella Chan contributed to this story to this story.\"]"
      ]
     },
     "metadata": {},
     "execution_count": 8
    }
   ],
   "source": [
    "ex = \"CNN's Stella Chan contributed to this story.\"\n",
    "exList = [ex]\n",
    "createRepetitions(exList, nlp(ex), 0, 3, 2)\n",
    "exList"
   ]
  },
  {
   "cell_type": "code",
   "execution_count": 9,
   "metadata": {},
   "outputs": [
    {
     "output_type": "stream",
     "name": "stdout",
     "text": [
      "Repetition for a phrase with 4 words 3 times added. Sentence No.: 12\n"
     ]
    },
    {
     "output_type": "execute_result",
     "data": {
      "text/plain": [
       "[\"(CNN) -- Usain Bolt rounded off the world championships Sunday by claiming his third gold in Moscow as he anchored Jamaica to victory in the men's 4x100m relay.\",\n",
       " 'The fastest man in the world charged clear of United States rival Justin Gatlin as the Jamaican quartet of Nesta Carter, Kemar Bailey-Cole, Nickel Ashmeade and Bolt won in 37.36 seconds.',\n",
       " 'The U.S finished second in 37.56 seconds with Canada taking the bronze after Britain were disqualified for a faulty handover.',\n",
       " 'The 26-year-old Bolt has now collected eight gold medals at world championships, equaling the record held by American trio Carl Lewis, Michael Johnson and Allyson Felix, not to mention the small matter of six Olympic titles.',\n",
       " 'The relay triumph followed individual successes in the 100 and 200 meters in the Russian capital.',\n",
       " '\"I\\'m proud of myself and I\\'ll continue to work to dominate for as long as possible,\" Bolt said, having previously expressed his intention to carry on until the 2016 Rio Olympics.',\n",
       " 'Victory was never seriously in doubt once he got the baton safely in hand from Ashmeade, while Gatlin and the United States third leg runner Rakieem Salaam had problems.',\n",
       " 'Gatlin strayed out of his lane as he struggled to get full control of their baton and was never able to get on terms with Bolt.',\n",
       " \"Earlier, Jamaica's women underlined their dominance in the sprint events by winning the 4x100m relay gold, anchored by Shelly-Ann Fraser-Pryce, who like Bolt was completing a triple.\",\n",
       " 'Their quartet recorded a championship record of 41.29 seconds, well clear of France, who crossed the line in second place in 42.73 seconds.',\n",
       " 'Defending champions, the United States, were initially back in the bronze medal position after losing time on the second handover between Alexandria Anderson and English Gardner, but promoted to silver when France were subsequently disqualified for an illegal handover.',\n",
       " \"The British quartet, who were initially fourth, were promoted to the bronze which eluded their men's team.\",\n",
       " 'Fraser-Pryce, like Bolt aged 26, became the first woman to achieve three golds in the 100-200 and the relay 200 and the relay.',\n",
       " \"In other final action on the last day of the championships, France's Teddy Tamgho became the third man to leap over 18m in the triple jump, exceeding the mark by four centimeters to take gold.\",\n",
       " \"Germany's Christina Obergfoll finally took gold at global level in the women's javelin after five previous silvers, while Kenya's Asbel Kiprop easily won a tactical men's 1500m final.\",\n",
       " \"Kiprop's compatriot Eunice Jepkoech Sum was a surprise winner of the women's 800m.\",\n",
       " \"Bolt's final dash for golden glory brought the eight-day championship to a rousing finale, but while the hosts topped the medal table from the United States there was criticism of the poor attendances in the Luzhniki Stadium.\",\n",
       " 'There was further concern when their pole vault gold medalist Yelena Isinbayeva made controversial remarks in support of Russia\\'s new laws, which make \"the propagandizing of non-traditional sexual relations among minors\" a criminal offense.',\n",
       " 'She later attempted to clarify her comments, but there were renewed calls by gay rights groups for a boycott of the 2014 Winter Games in Sochi, the next major sports event in Russia.']"
      ]
     },
     "metadata": {},
     "execution_count": 9
    }
   ],
   "source": [
    "i = 1\n",
    "\n",
    "data = data_set['train'][i]['article']\n",
    "\n",
    "repeat_words(data, 0.1)"
   ]
  },
  {
   "source": [
    "## Word swap and drop"
   ],
   "cell_type": "markdown",
   "metadata": {}
  },
  {
   "cell_type": "code",
   "execution_count": 102,
   "metadata": {},
   "outputs": [],
   "source": [
    "def swap_pair(sentence : str, doc : spacy.tokens.doc.Doc) -> str:\n",
    "    \"\"\" Swap pair function\n",
    "\n",
    "    Function to swap one random pair of words. Using the random sample function,\n",
    "    two elements are choosen and swaped later on.\n",
    "\n",
    "    Parameter\n",
    "    ---------\n",
    "    sentence : str\n",
    "        sentence to be deteriorated\n",
    "    doc : spacy.tokens.doc.Doc\n",
    "        spacy document, to extract the indices of the tokens from\n",
    "\n",
    "    Returns\n",
    "    -------\n",
    "    str\n",
    "        deteriorated sentence\n",
    "    \"\"\"\n",
    "    \n",
    "    candidates : list = []\n",
    "    candidates_text : list = []\n",
    "\n",
    "    for i in range(len(doc)):\n",
    "\n",
    "        lower_text = doc[i].text.lower()\n",
    "\n",
    "        if doc[i].pos_ != \"PUNCT\" and not lower_text in candidates_text:\n",
    "            candidates.append(i)\n",
    "            candidates_text.append(lower_text)\n",
    "        else:\n",
    "            continue\n",
    "\n",
    "    pair : list = random.sample(candidates, 2)\n",
    "    first, second = (pair[0], pair[1]) if pair[0] < pair[1] else (pair[1], pair[0])\n",
    " \n",
    "    first_bounds, second_bounds = \\\n",
    "        (doc[first].idx, doc[first].idx + len(doc[first].text)), \\\n",
    "        (doc[second].idx, doc[second].idx + len(doc[second].text))\n",
    "\n",
    "    first_token, second_token = \\\n",
    "        sentence[first_bounds[0]:first_bounds[1]], \\\n",
    "        sentence[second_bounds[0]:second_bounds[1]]\n",
    "    \n",
    "    return sentence[0:(first_bounds[0])] + second_token + \" \" +\\\n",
    "        sentence[(first_bounds[1] + 1):(second_bounds[0])] + first_token + \\\n",
    "        sentence[(second_bounds[1])::]\n",
    "\n",
    "    \n",
    "\n",
    "def word_swap(text : str, probability : float) -> list:\n",
    "    \"\"\" Word swap function\n",
    "\n",
    "    Function to swap a specific amound of words, determined by the probability parameter. A whole \n",
    "    text is passed, split into sentences and later on deteriorated to a specific degree.\n",
    "\n",
    "    Parameter\n",
    "    ---------\n",
    "    text : str\n",
    "        Whole text which wil be deteriorated\n",
    "    probability : float\n",
    "        float in [0,1]\n",
    "\n",
    "    Raises\n",
    "    ------\n",
    "    Exception\n",
    "        if probability is not in [0,1]\n",
    "\n",
    "    Returns\n",
    "    -------\n",
    "    list\n",
    "        list of sentences\n",
    "    \"\"\"\n",
    "\n",
    "    if probability < 0 or probability > 1:\n",
    "        raise Exception(\"Probability must be a number in [0,1].\")\n",
    "\n",
    "    sentences = nltk.sent_tokenize(text)\n",
    "\n",
    "    ret_list : list = []\n",
    "\n",
    "    for i, sentence in enumerate(sentences):\n",
    "\n",
    "        if bool(np.random.binomial(size=1, n=1, p= probability)):\n",
    "\n",
    "            times : int = random.randrange(1, 5)\n",
    "            new_sentence = sentence\n",
    "\n",
    "            for _ in range(times):\n",
    "                new_sentence = swap_pair(sentence=new_sentence, doc=nlp(new_sentence))\n",
    "\n",
    "            ret_list.append(new_sentence)\n",
    "            print(\"Sentence %i: Swapped %i times\" % (i, times))\n",
    "\n",
    "        else:\n",
    "            ret_list.append(sentence)\n",
    "    return ret_list"
   ]
  },
  {
   "cell_type": "code",
   "execution_count": 98,
   "metadata": {},
   "outputs": [],
   "source": [
    "def drop_single(sentence : str, doc : spacy.tokens.doc.Doc) -> list:\n",
    "    \"\"\" Drop single word function\n",
    "\n",
    "    Function to drop a single word from a sentence. \n",
    "\n",
    "    Parameter\n",
    "    ---------\n",
    "    sentence : str\n",
    "        sentence to be deteriorated\n",
    "    doc : spacy.tokens.doc.Doc\n",
    "        spacy document, to extract the indices of the token from\n",
    "\n",
    "    Returns\n",
    "    -------\n",
    "    str\n",
    "        deteriorated sentence\n",
    "    \"\"\"\n",
    "\n",
    "    candidates : list = []\n",
    "\n",
    "    for i in range(len(doc)):\n",
    "\n",
    "        if doc[i].pos_ != \"PUNCT\":\n",
    "            candidates.append(i)\n",
    "        else:\n",
    "            continue\n",
    "    \n",
    "    to_drop : int = random.randrange(0, len(doc))\n",
    "\n",
    "    bounds = doc[to_drop].idx, doc[to_drop].idx + len(doc[to_drop].text)\n",
    "\n",
    "    return sentence[0:bounds[0]] + sentence[(bounds[1] + 1)::]\n",
    "    \n",
    "\n",
    "\n",
    "def word_drop(text : str, probability : float) -> list:\n",
    "    \"\"\" Word drop function\n",
    "\n",
    "    Function to drop a specific amound of words, determined by the probability parameter. A whole \n",
    "    text is passed, split into sentences and later on deteriorated to a specific degree.\n",
    "\n",
    "    Parameter\n",
    "    ---------\n",
    "    text : str\n",
    "        Whole text which wil be deteriorated\n",
    "    probability : float\n",
    "        float in [0,1]\n",
    "\n",
    "    Raises\n",
    "    ------\n",
    "    Exception\n",
    "        if probability is not in [0,1]\n",
    "\n",
    "    Returns\n",
    "    -------\n",
    "    list\n",
    "        list of sentences\n",
    "    \"\"\"\n",
    "\n",
    "    if probability < 0 or probability > 1:\n",
    "        raise Exception(\"Probability must be a number in [0,1].\")\n",
    "\n",
    "    sentences = nltk.sent_tokenize(text)\n",
    "\n",
    "    ret_list : list = []\n",
    "\n",
    "    for i, sentence in enumerate(sentences):\n",
    "\n",
    "        if bool(np.random.binomial(size=1, n=1, p= probability)):\n",
    "\n",
    "            times : int = random.randrange(1, 5)\n",
    "            new_sentence = sentence\n",
    "\n",
    "            for _ in range(times):\n",
    "                new_sentence = drop_single(sentence=new_sentence, doc=nlp(new_sentence))\n",
    "\n",
    "            ret_list.append(new_sentence)\n",
    "            print(\"Sentence %i: Dropped %i words\" % (i, times))\n",
    "\n",
    "        else:\n",
    "            ret_list.append(sentence)\n",
    "    return ret_list"
   ]
  },
  {
   "source": [
    "### Test"
   ],
   "cell_type": "markdown",
   "metadata": {}
  },
  {
   "cell_type": "code",
   "execution_count": 101,
   "metadata": {},
   "outputs": [
    {
     "output_type": "stream",
     "name": "stdout",
     "text": [
      ">individual<\n>in<\n"
     ]
    },
    {
     "output_type": "execute_result",
     "data": {
      "text/plain": [
       "'The relay triumph followed in successes individual the 100 and 200 meters in the Russian capital.'"
      ]
     },
     "metadata": {},
     "execution_count": 101
    }
   ],
   "source": [
    "ex = 'The relay triumph followed individual successes in the 100 and 200 meters in the Russian capital.'\n",
    "doc = nlp(ex)\n",
    "swap_pair(ex, doc)"
   ]
  },
  {
   "cell_type": "code",
   "execution_count": 100,
   "metadata": {},
   "outputs": [
    {
     "output_type": "execute_result",
     "data": {
      "text/plain": [
       "'The relay triumph followed individual in the 100 and 200 meters in the Russian capital.'"
      ]
     },
     "metadata": {},
     "execution_count": 100
    }
   ],
   "source": [
    "ex = 'The relay triumph followed individual successes in the 100 and 200 meters in the Russian capital.'\n",
    "doc = nlp(ex)\n",
    "drop_single(ex, doc)"
   ]
  },
  {
   "cell_type": "code",
   "execution_count": 216,
   "metadata": {},
   "outputs": [
    {
     "output_type": "stream",
     "name": "stdout",
     "text": [
      "Sentence 1 swapped 2 times\nSentence 12 swapped 4 times\nSentence 13 swapped 4 times\nSentence 16 swapped 1 times\n"
     ]
    },
    {
     "output_type": "execute_result",
     "data": {
      "text/plain": [
       "[\"(CNN) -- Usain Bolt rounded off the world championships Sunday by claiming his third gold in Moscow as he anchored Jamaica to victory in the men's 4x100m relay.\",\n",
       " 'The fastest man in the world charged clear of United States rival Justin Gatlin as the Jamaican  37.36 ailey of Nesta Carter, Kemar  quartet -Cole, Nickel Ashmeade and Bolt won in     seconds.',\n",
       " 'The U.S finished second in 37.56 seconds with Canada taking the bronze after Britain were disqualified for a faulty handover.',\n",
       " 'The 26-year-old Bolt has now collected eight gold medals at world championships, equaling the record held by American trio Carl Lewis, Michael Johnson and Allyson Felix, not to mention the small matter of six Olympic titles.',\n",
       " 'The relay triumph followed individual successes in the 100 and 200 meters in the Russian capital.',\n",
       " '\"I\\'m proud of myself and I\\'ll continue to work to dominate for as long as possible,\" Bolt said, having previously expressed his intention to carry on until the 2016 Rio Olympics.',\n",
       " 'Victory was never seriously in doubt once he got the baton safely in hand from Ashmeade, while Gatlin and the United States third leg runner Rakieem Salaam had problems.',\n",
       " 'Gatlin strayed out of his lane as he struggled to get full control of their baton and was never able to get on terms with Bolt.',\n",
       " \"Earlier, Jamaica's women underlined their dominance in the sprint events by winning the 4x100m relay gold, anchored by Shelly-Ann Fraser-Pryce, who like Bolt was completing a triple.\",\n",
       " 'Their quartet recorded a championship record of 41.29 seconds, well clear of France, who crossed the line in second place in 42.73 seconds.',\n",
       " 'Defending champions, the United States, were initially back in the bronze medal position after losing time on the second handover between Alexandria Anderson and English Gardner, but promoted to silver when France were subsequently disqualified for an illegal handover.',\n",
       " \"The British quartet, who were initially fourth, were promoted to the bronze which eluded their men's team.\",\n",
       " 'Fraser- first  like Bolt  relay 26, became the   Pryce    woman    to achieve three golds in the 100-200 and the  aged .',\n",
       " \"In  became final action on the last  to xceeding of the championships, France's Teddy Tamgho  other  the third  jump     leap over 18m in the triple  man ,  day  the mark by four centimeters to take gold.\",\n",
       " \"Germany's Christina Obergfoll finally took gold at global level in the women's javelin after five previous silvers, while Kenya's Asbel Kiprop easily won a tactical men's 1500m final.\",\n",
       " \"Kiprop's compatriot Eunice Jepkoech Sum was a surprise winner of the women's 800m.\",\n",
       " \"Bolt's final dash for golden  poor brought the eight-day championship to a rousing finale, but while the hosts topped the medal table from the United States there was criticism of the  glory  attendances in the Luzhniki Stadium.\",\n",
       " 'There was further concern when their pole vault gold medalist Yelena Isinbayeva made controversial remarks in support of Russia\\'s new laws, which make \"the propagandizing of non-traditional sexual relations among minors\" a criminal offense.',\n",
       " 'She later attempted to clarify her comments, but there were renewed calls by gay rights groups for a boycott of the 2014 Winter Games in Sochi, the next major sports event in Russia.']"
      ]
     },
     "metadata": {},
     "execution_count": 216
    }
   ],
   "source": [
    "i = 1\n",
    "\n",
    "data = data_set['train'][i]['article']\n",
    "word_swap(data, 0.1)"
   ]
  },
  {
   "cell_type": "code",
   "execution_count": 223,
   "metadata": {},
   "outputs": [
    {
     "output_type": "stream",
     "name": "stdout",
     "text": [
      "Sentence 8: Dropped 1 words\nSentence 14: Dropped 2 words\n"
     ]
    },
    {
     "output_type": "execute_result",
     "data": {
      "text/plain": [
       "[\"(CNN) -- Usain Bolt rounded off the world championships Sunday by claiming his third gold in Moscow as he anchored Jamaica to victory in the men's 4x100m relay.\",\n",
       " 'The fastest man in the world charged clear of United States rival Justin Gatlin as the Jamaican quartet of Nesta Carter, Kemar Bailey-Cole, Nickel Ashmeade and Bolt won in 37.36 seconds.',\n",
       " 'The U.S finished second in 37.56 seconds with Canada taking the bronze after Britain were disqualified for a faulty handover.',\n",
       " 'The 26-year-old Bolt has now collected eight gold medals at world championships, equaling the record held by American trio Carl Lewis, Michael Johnson and Allyson Felix, not to mention the small matter of six Olympic titles.',\n",
       " 'The relay triumph followed individual successes in the 100 and 200 meters in the Russian capital.',\n",
       " '\"I\\'m proud of myself and I\\'ll continue to work to dominate for as long as possible,\" Bolt said, having previously expressed his intention to carry on until the 2016 Rio Olympics.',\n",
       " 'Victory was never seriously in doubt once he got the baton safely in hand from Ashmeade, while Gatlin and the United States third leg runner Rakieem Salaam had problems.',\n",
       " 'Gatlin strayed out of his lane as he struggled to get full control of their baton and was never able to get on terms with Bolt.',\n",
       " \"Earlier, Jamaica's women underlined their dominance in the sprint events by the 4x100m relay gold, anchored by Shelly-Ann Fraser-Pryce, who like Bolt was completing a triple.\",\n",
       " 'Their quartet recorded a championship record of 41.29 seconds, well clear of France, who crossed the line in second place in 42.73 seconds.',\n",
       " 'Defending champions, the United States, were initially back in the bronze medal position after losing time on the second handover between Alexandria Anderson and English Gardner, but promoted to silver when France were subsequently disqualified for an illegal handover.',\n",
       " \"The British quartet, who were initially fourth, were promoted to the bronze which eluded their men's team.\",\n",
       " 'Fraser-Pryce, like Bolt aged 26, became the first woman to achieve three golds in the 100-200 and the relay.',\n",
       " \"In other final action on the last day of the championships, France's Teddy Tamgho became the third man to leap over 18m in the triple jump, exceeding the mark by four centimeters to take gold.\",\n",
       " \"Germany's Christina Obergfoll finally took gold at global in the women's javelin after five previous silvers, while Kenya's Asbel Kiprop easily won a tactical men's 1500m final\",\n",
       " \"Kiprop's compatriot Eunice Jepkoech Sum was a surprise winner of the women's 800m.\",\n",
       " \"Bolt's final dash for golden glory brought the eight-day championship to a rousing finale, but while the hosts topped the medal table from the United States there was criticism of the poor attendances in the Luzhniki Stadium.\",\n",
       " 'There was further concern when their pole vault gold medalist Yelena Isinbayeva made controversial remarks in support of Russia\\'s new laws, which make \"the propagandizing of non-traditional sexual relations among minors\" a criminal offense.',\n",
       " 'She later attempted to clarify her comments, but there were renewed calls by gay rights groups for a boycott of the 2014 Winter Games in Sochi, the next major sports event in Russia.']"
      ]
     },
     "metadata": {},
     "execution_count": 223
    }
   ],
   "source": [
    "i = 1\n",
    "\n",
    "data = data_set['train'][i]['article']\n",
    "word_drop(data, 0.1)"
   ]
  },
  {
   "source": [
    "## Adjective drop"
   ],
   "cell_type": "markdown",
   "metadata": {}
  },
  {
   "cell_type": "code",
   "execution_count": 224,
   "metadata": {},
   "outputs": [
    {
     "output_type": "stream",
     "name": "stderr",
     "text": [
      "/home/philko/.local/lib/python3.8/site-packages/spacy/displacy/__init__.py:94: UserWarning: [W011] It looks like you're calling displacy.serve from within a Jupyter notebook or a similar environment. This likely means you're already running a local web server, so there's no need to make displaCy start another one. Instead, you should be able to replace displacy.serve with displacy.render to show the visualization.\n  warnings.warn(Warnings.W011)\n"
     ]
    },
    {
     "output_type": "display_data",
     "data": {
      "text/plain": "<IPython.core.display.HTML object>",
      "text/html": "<span class=\"tex2jax_ignore\"><!DOCTYPE html>\n<html lang=\"en\">\n    <head>\n        <title>displaCy</title>\n    </head>\n\n    <body style=\"font-size: 16px; font-family: -apple-system, BlinkMacSystemFont, 'Segoe UI', Helvetica, Arial, sans-serif, 'Apple Color Emoji', 'Segoe UI Emoji', 'Segoe UI Symbol'; padding: 4rem 2rem; direction: ltr\">\n<figure style=\"margin-bottom: 6rem\">\n<svg xmlns=\"http://www.w3.org/2000/svg\" xmlns:xlink=\"http://www.w3.org/1999/xlink\" xml:lang=\"en\" id=\"021f1917f61842fe8ec83706a7828056-0\" class=\"displacy\" width=\"5825\" height=\"749.5\" direction=\"ltr\" style=\"max-width: none; height: 749.5px; color: #000000; background: #ffffff; font-family: Arial; direction: ltr\">\n<text class=\"displacy-token\" fill=\"currentColor\" text-anchor=\"middle\" y=\"659.5\">\n    <tspan class=\"displacy-word\" fill=\"currentColor\" x=\"50\">She</tspan>\n    <tspan class=\"displacy-tag\" dy=\"2em\" fill=\"currentColor\" x=\"50\">PRON</tspan>\n</text>\n\n<text class=\"displacy-token\" fill=\"currentColor\" text-anchor=\"middle\" y=\"659.5\">\n    <tspan class=\"displacy-word\" fill=\"currentColor\" x=\"225\">later</tspan>\n    <tspan class=\"displacy-tag\" dy=\"2em\" fill=\"currentColor\" x=\"225\">ADV</tspan>\n</text>\n\n<text class=\"displacy-token\" fill=\"currentColor\" text-anchor=\"middle\" y=\"659.5\">\n    <tspan class=\"displacy-word\" fill=\"currentColor\" x=\"400\">attempted</tspan>\n    <tspan class=\"displacy-tag\" dy=\"2em\" fill=\"currentColor\" x=\"400\">VERB</tspan>\n</text>\n\n<text class=\"displacy-token\" fill=\"currentColor\" text-anchor=\"middle\" y=\"659.5\">\n    <tspan class=\"displacy-word\" fill=\"currentColor\" x=\"575\">to</tspan>\n    <tspan class=\"displacy-tag\" dy=\"2em\" fill=\"currentColor\" x=\"575\">PART</tspan>\n</text>\n\n<text class=\"displacy-token\" fill=\"currentColor\" text-anchor=\"middle\" y=\"659.5\">\n    <tspan class=\"displacy-word\" fill=\"currentColor\" x=\"750\">clarify</tspan>\n    <tspan class=\"displacy-tag\" dy=\"2em\" fill=\"currentColor\" x=\"750\">VERB</tspan>\n</text>\n\n<text class=\"displacy-token\" fill=\"currentColor\" text-anchor=\"middle\" y=\"659.5\">\n    <tspan class=\"displacy-word\" fill=\"currentColor\" x=\"925\">her</tspan>\n    <tspan class=\"displacy-tag\" dy=\"2em\" fill=\"currentColor\" x=\"925\">DET</tspan>\n</text>\n\n<text class=\"displacy-token\" fill=\"currentColor\" text-anchor=\"middle\" y=\"659.5\">\n    <tspan class=\"displacy-word\" fill=\"currentColor\" x=\"1100\">comments,</tspan>\n    <tspan class=\"displacy-tag\" dy=\"2em\" fill=\"currentColor\" x=\"1100\">NOUN</tspan>\n</text>\n\n<text class=\"displacy-token\" fill=\"currentColor\" text-anchor=\"middle\" y=\"659.5\">\n    <tspan class=\"displacy-word\" fill=\"currentColor\" x=\"1275\">but</tspan>\n    <tspan class=\"displacy-tag\" dy=\"2em\" fill=\"currentColor\" x=\"1275\">CCONJ</tspan>\n</text>\n\n<text class=\"displacy-token\" fill=\"currentColor\" text-anchor=\"middle\" y=\"659.5\">\n    <tspan class=\"displacy-word\" fill=\"currentColor\" x=\"1450\">there</tspan>\n    <tspan class=\"displacy-tag\" dy=\"2em\" fill=\"currentColor\" x=\"1450\">PRON</tspan>\n</text>\n\n<text class=\"displacy-token\" fill=\"currentColor\" text-anchor=\"middle\" y=\"659.5\">\n    <tspan class=\"displacy-word\" fill=\"currentColor\" x=\"1625\">were</tspan>\n    <tspan class=\"displacy-tag\" dy=\"2em\" fill=\"currentColor\" x=\"1625\">AUX</tspan>\n</text>\n\n<text class=\"displacy-token\" fill=\"currentColor\" text-anchor=\"middle\" y=\"659.5\">\n    <tspan class=\"displacy-word\" fill=\"currentColor\" x=\"1800\">renewed</tspan>\n    <tspan class=\"displacy-tag\" dy=\"2em\" fill=\"currentColor\" x=\"1800\">VERB</tspan>\n</text>\n\n<text class=\"displacy-token\" fill=\"currentColor\" text-anchor=\"middle\" y=\"659.5\">\n    <tspan class=\"displacy-word\" fill=\"currentColor\" x=\"1975\">calls</tspan>\n    <tspan class=\"displacy-tag\" dy=\"2em\" fill=\"currentColor\" x=\"1975\">NOUN</tspan>\n</text>\n\n<text class=\"displacy-token\" fill=\"currentColor\" text-anchor=\"middle\" y=\"659.5\">\n    <tspan class=\"displacy-word\" fill=\"currentColor\" x=\"2150\">by</tspan>\n    <tspan class=\"displacy-tag\" dy=\"2em\" fill=\"currentColor\" x=\"2150\">ADP</tspan>\n</text>\n\n<text class=\"displacy-token\" fill=\"currentColor\" text-anchor=\"middle\" y=\"659.5\">\n    <tspan class=\"displacy-word\" fill=\"currentColor\" x=\"2325\">gay</tspan>\n    <tspan class=\"displacy-tag\" dy=\"2em\" fill=\"currentColor\" x=\"2325\">NOUN</tspan>\n</text>\n\n<text class=\"displacy-token\" fill=\"currentColor\" text-anchor=\"middle\" y=\"659.5\">\n    <tspan class=\"displacy-word\" fill=\"currentColor\" x=\"2500\">rights</tspan>\n    <tspan class=\"displacy-tag\" dy=\"2em\" fill=\"currentColor\" x=\"2500\">NOUN</tspan>\n</text>\n\n<text class=\"displacy-token\" fill=\"currentColor\" text-anchor=\"middle\" y=\"659.5\">\n    <tspan class=\"displacy-word\" fill=\"currentColor\" x=\"2675\">groups</tspan>\n    <tspan class=\"displacy-tag\" dy=\"2em\" fill=\"currentColor\" x=\"2675\">NOUN</tspan>\n</text>\n\n<text class=\"displacy-token\" fill=\"currentColor\" text-anchor=\"middle\" y=\"659.5\">\n    <tspan class=\"displacy-word\" fill=\"currentColor\" x=\"2850\">for</tspan>\n    <tspan class=\"displacy-tag\" dy=\"2em\" fill=\"currentColor\" x=\"2850\">ADP</tspan>\n</text>\n\n<text class=\"displacy-token\" fill=\"currentColor\" text-anchor=\"middle\" y=\"659.5\">\n    <tspan class=\"displacy-word\" fill=\"currentColor\" x=\"3025\">a</tspan>\n    <tspan class=\"displacy-tag\" dy=\"2em\" fill=\"currentColor\" x=\"3025\">DET</tspan>\n</text>\n\n<text class=\"displacy-token\" fill=\"currentColor\" text-anchor=\"middle\" y=\"659.5\">\n    <tspan class=\"displacy-word\" fill=\"currentColor\" x=\"3200\">boycott</tspan>\n    <tspan class=\"displacy-tag\" dy=\"2em\" fill=\"currentColor\" x=\"3200\">NOUN</tspan>\n</text>\n\n<text class=\"displacy-token\" fill=\"currentColor\" text-anchor=\"middle\" y=\"659.5\">\n    <tspan class=\"displacy-word\" fill=\"currentColor\" x=\"3375\">of</tspan>\n    <tspan class=\"displacy-tag\" dy=\"2em\" fill=\"currentColor\" x=\"3375\">ADP</tspan>\n</text>\n\n<text class=\"displacy-token\" fill=\"currentColor\" text-anchor=\"middle\" y=\"659.5\">\n    <tspan class=\"displacy-word\" fill=\"currentColor\" x=\"3550\">the</tspan>\n    <tspan class=\"displacy-tag\" dy=\"2em\" fill=\"currentColor\" x=\"3550\">DET</tspan>\n</text>\n\n<text class=\"displacy-token\" fill=\"currentColor\" text-anchor=\"middle\" y=\"659.5\">\n    <tspan class=\"displacy-word\" fill=\"currentColor\" x=\"3725\">2014</tspan>\n    <tspan class=\"displacy-tag\" dy=\"2em\" fill=\"currentColor\" x=\"3725\">NUM</tspan>\n</text>\n\n<text class=\"displacy-token\" fill=\"currentColor\" text-anchor=\"middle\" y=\"659.5\">\n    <tspan class=\"displacy-word\" fill=\"currentColor\" x=\"3900\">Winter</tspan>\n    <tspan class=\"displacy-tag\" dy=\"2em\" fill=\"currentColor\" x=\"3900\">PROPN</tspan>\n</text>\n\n<text class=\"displacy-token\" fill=\"currentColor\" text-anchor=\"middle\" y=\"659.5\">\n    <tspan class=\"displacy-word\" fill=\"currentColor\" x=\"4075\">Games</tspan>\n    <tspan class=\"displacy-tag\" dy=\"2em\" fill=\"currentColor\" x=\"4075\">PROPN</tspan>\n</text>\n\n<text class=\"displacy-token\" fill=\"currentColor\" text-anchor=\"middle\" y=\"659.5\">\n    <tspan class=\"displacy-word\" fill=\"currentColor\" x=\"4250\">in</tspan>\n    <tspan class=\"displacy-tag\" dy=\"2em\" fill=\"currentColor\" x=\"4250\">ADP</tspan>\n</text>\n\n<text class=\"displacy-token\" fill=\"currentColor\" text-anchor=\"middle\" y=\"659.5\">\n    <tspan class=\"displacy-word\" fill=\"currentColor\" x=\"4425\">Sochi,</tspan>\n    <tspan class=\"displacy-tag\" dy=\"2em\" fill=\"currentColor\" x=\"4425\">PROPN</tspan>\n</text>\n\n<text class=\"displacy-token\" fill=\"currentColor\" text-anchor=\"middle\" y=\"659.5\">\n    <tspan class=\"displacy-word\" fill=\"currentColor\" x=\"4600\">the</tspan>\n    <tspan class=\"displacy-tag\" dy=\"2em\" fill=\"currentColor\" x=\"4600\">DET</tspan>\n</text>\n\n<text class=\"displacy-token\" fill=\"currentColor\" text-anchor=\"middle\" y=\"659.5\">\n    <tspan class=\"displacy-word\" fill=\"currentColor\" x=\"4775\">next</tspan>\n    <tspan class=\"displacy-tag\" dy=\"2em\" fill=\"currentColor\" x=\"4775\">ADJ</tspan>\n</text>\n\n<text class=\"displacy-token\" fill=\"currentColor\" text-anchor=\"middle\" y=\"659.5\">\n    <tspan class=\"displacy-word\" fill=\"currentColor\" x=\"4950\">major</tspan>\n    <tspan class=\"displacy-tag\" dy=\"2em\" fill=\"currentColor\" x=\"4950\">ADJ</tspan>\n</text>\n\n<text class=\"displacy-token\" fill=\"currentColor\" text-anchor=\"middle\" y=\"659.5\">\n    <tspan class=\"displacy-word\" fill=\"currentColor\" x=\"5125\">sports</tspan>\n    <tspan class=\"displacy-tag\" dy=\"2em\" fill=\"currentColor\" x=\"5125\">NOUN</tspan>\n</text>\n\n<text class=\"displacy-token\" fill=\"currentColor\" text-anchor=\"middle\" y=\"659.5\">\n    <tspan class=\"displacy-word\" fill=\"currentColor\" x=\"5300\">event</tspan>\n    <tspan class=\"displacy-tag\" dy=\"2em\" fill=\"currentColor\" x=\"5300\">NOUN</tspan>\n</text>\n\n<text class=\"displacy-token\" fill=\"currentColor\" text-anchor=\"middle\" y=\"659.5\">\n    <tspan class=\"displacy-word\" fill=\"currentColor\" x=\"5475\">in</tspan>\n    <tspan class=\"displacy-tag\" dy=\"2em\" fill=\"currentColor\" x=\"5475\">ADP</tspan>\n</text>\n\n<text class=\"displacy-token\" fill=\"currentColor\" text-anchor=\"middle\" y=\"659.5\">\n    <tspan class=\"displacy-word\" fill=\"currentColor\" x=\"5650\">Russia.</tspan>\n    <tspan class=\"displacy-tag\" dy=\"2em\" fill=\"currentColor\" x=\"5650\">PROPN</tspan>\n</text>\n\n<g class=\"displacy-arrow\">\n    <path class=\"displacy-arc\" id=\"arrow-021f1917f61842fe8ec83706a7828056-0-0\" stroke-width=\"2px\" d=\"M70,614.5 C70,439.5 375.0,439.5 375.0,614.5\" fill=\"none\" stroke=\"currentColor\"/>\n    <text dy=\"1.25em\" style=\"font-size: 0.8em; letter-spacing: 1px\">\n        <textPath xlink:href=\"#arrow-021f1917f61842fe8ec83706a7828056-0-0\" class=\"displacy-label\" startOffset=\"50%\" side=\"left\" fill=\"currentColor\" text-anchor=\"middle\">nsubj</textPath>\n    </text>\n    <path class=\"displacy-arrowhead\" d=\"M70,616.5 L62,604.5 78,604.5\" fill=\"currentColor\"/>\n</g>\n\n<g class=\"displacy-arrow\">\n    <path class=\"displacy-arc\" id=\"arrow-021f1917f61842fe8ec83706a7828056-0-1\" stroke-width=\"2px\" d=\"M245,614.5 C245,527.0 370.0,527.0 370.0,614.5\" fill=\"none\" stroke=\"currentColor\"/>\n    <text dy=\"1.25em\" style=\"font-size: 0.8em; letter-spacing: 1px\">\n        <textPath xlink:href=\"#arrow-021f1917f61842fe8ec83706a7828056-0-1\" class=\"displacy-label\" startOffset=\"50%\" side=\"left\" fill=\"currentColor\" text-anchor=\"middle\">advmod</textPath>\n    </text>\n    <path class=\"displacy-arrowhead\" d=\"M245,616.5 L237,604.5 253,604.5\" fill=\"currentColor\"/>\n</g>\n\n<g class=\"displacy-arrow\">\n    <path class=\"displacy-arc\" id=\"arrow-021f1917f61842fe8ec83706a7828056-0-2\" stroke-width=\"2px\" d=\"M595,614.5 C595,527.0 720.0,527.0 720.0,614.5\" fill=\"none\" stroke=\"currentColor\"/>\n    <text dy=\"1.25em\" style=\"font-size: 0.8em; letter-spacing: 1px\">\n        <textPath xlink:href=\"#arrow-021f1917f61842fe8ec83706a7828056-0-2\" class=\"displacy-label\" startOffset=\"50%\" side=\"left\" fill=\"currentColor\" text-anchor=\"middle\">aux</textPath>\n    </text>\n    <path class=\"displacy-arrowhead\" d=\"M595,616.5 L587,604.5 603,604.5\" fill=\"currentColor\"/>\n</g>\n\n<g class=\"displacy-arrow\">\n    <path class=\"displacy-arc\" id=\"arrow-021f1917f61842fe8ec83706a7828056-0-3\" stroke-width=\"2px\" d=\"M420,614.5 C420,439.5 725.0,439.5 725.0,614.5\" fill=\"none\" stroke=\"currentColor\"/>\n    <text dy=\"1.25em\" style=\"font-size: 0.8em; letter-spacing: 1px\">\n        <textPath xlink:href=\"#arrow-021f1917f61842fe8ec83706a7828056-0-3\" class=\"displacy-label\" startOffset=\"50%\" side=\"left\" fill=\"currentColor\" text-anchor=\"middle\">xcomp</textPath>\n    </text>\n    <path class=\"displacy-arrowhead\" d=\"M725.0,616.5 L733.0,604.5 717.0,604.5\" fill=\"currentColor\"/>\n</g>\n\n<g class=\"displacy-arrow\">\n    <path class=\"displacy-arc\" id=\"arrow-021f1917f61842fe8ec83706a7828056-0-4\" stroke-width=\"2px\" d=\"M945,614.5 C945,527.0 1070.0,527.0 1070.0,614.5\" fill=\"none\" stroke=\"currentColor\"/>\n    <text dy=\"1.25em\" style=\"font-size: 0.8em; letter-spacing: 1px\">\n        <textPath xlink:href=\"#arrow-021f1917f61842fe8ec83706a7828056-0-4\" class=\"displacy-label\" startOffset=\"50%\" side=\"left\" fill=\"currentColor\" text-anchor=\"middle\">poss</textPath>\n    </text>\n    <path class=\"displacy-arrowhead\" d=\"M945,616.5 L937,604.5 953,604.5\" fill=\"currentColor\"/>\n</g>\n\n<g class=\"displacy-arrow\">\n    <path class=\"displacy-arc\" id=\"arrow-021f1917f61842fe8ec83706a7828056-0-5\" stroke-width=\"2px\" d=\"M770,614.5 C770,439.5 1075.0,439.5 1075.0,614.5\" fill=\"none\" stroke=\"currentColor\"/>\n    <text dy=\"1.25em\" style=\"font-size: 0.8em; letter-spacing: 1px\">\n        <textPath xlink:href=\"#arrow-021f1917f61842fe8ec83706a7828056-0-5\" class=\"displacy-label\" startOffset=\"50%\" side=\"left\" fill=\"currentColor\" text-anchor=\"middle\">dobj</textPath>\n    </text>\n    <path class=\"displacy-arrowhead\" d=\"M1075.0,616.5 L1083.0,604.5 1067.0,604.5\" fill=\"currentColor\"/>\n</g>\n\n<g class=\"displacy-arrow\">\n    <path class=\"displacy-arc\" id=\"arrow-021f1917f61842fe8ec83706a7828056-0-6\" stroke-width=\"2px\" d=\"M420,614.5 C420,177.0 1265.0,177.0 1265.0,614.5\" fill=\"none\" stroke=\"currentColor\"/>\n    <text dy=\"1.25em\" style=\"font-size: 0.8em; letter-spacing: 1px\">\n        <textPath xlink:href=\"#arrow-021f1917f61842fe8ec83706a7828056-0-6\" class=\"displacy-label\" startOffset=\"50%\" side=\"left\" fill=\"currentColor\" text-anchor=\"middle\">cc</textPath>\n    </text>\n    <path class=\"displacy-arrowhead\" d=\"M1265.0,616.5 L1273.0,604.5 1257.0,604.5\" fill=\"currentColor\"/>\n</g>\n\n<g class=\"displacy-arrow\">\n    <path class=\"displacy-arc\" id=\"arrow-021f1917f61842fe8ec83706a7828056-0-7\" stroke-width=\"2px\" d=\"M1470,614.5 C1470,527.0 1595.0,527.0 1595.0,614.5\" fill=\"none\" stroke=\"currentColor\"/>\n    <text dy=\"1.25em\" style=\"font-size: 0.8em; letter-spacing: 1px\">\n        <textPath xlink:href=\"#arrow-021f1917f61842fe8ec83706a7828056-0-7\" class=\"displacy-label\" startOffset=\"50%\" side=\"left\" fill=\"currentColor\" text-anchor=\"middle\">expl</textPath>\n    </text>\n    <path class=\"displacy-arrowhead\" d=\"M1470,616.5 L1462,604.5 1478,604.5\" fill=\"currentColor\"/>\n</g>\n\n<g class=\"displacy-arrow\">\n    <path class=\"displacy-arc\" id=\"arrow-021f1917f61842fe8ec83706a7828056-0-8\" stroke-width=\"2px\" d=\"M1645,614.5 C1645,527.0 1770.0,527.0 1770.0,614.5\" fill=\"none\" stroke=\"currentColor\"/>\n    <text dy=\"1.25em\" style=\"font-size: 0.8em; letter-spacing: 1px\">\n        <textPath xlink:href=\"#arrow-021f1917f61842fe8ec83706a7828056-0-8\" class=\"displacy-label\" startOffset=\"50%\" side=\"left\" fill=\"currentColor\" text-anchor=\"middle\">auxpass</textPath>\n    </text>\n    <path class=\"displacy-arrowhead\" d=\"M1645,616.5 L1637,604.5 1653,604.5\" fill=\"currentColor\"/>\n</g>\n\n<g class=\"displacy-arrow\">\n    <path class=\"displacy-arc\" id=\"arrow-021f1917f61842fe8ec83706a7828056-0-9\" stroke-width=\"2px\" d=\"M420,614.5 C420,89.5 1795.0,89.5 1795.0,614.5\" fill=\"none\" stroke=\"currentColor\"/>\n    <text dy=\"1.25em\" style=\"font-size: 0.8em; letter-spacing: 1px\">\n        <textPath xlink:href=\"#arrow-021f1917f61842fe8ec83706a7828056-0-9\" class=\"displacy-label\" startOffset=\"50%\" side=\"left\" fill=\"currentColor\" text-anchor=\"middle\">conj</textPath>\n    </text>\n    <path class=\"displacy-arrowhead\" d=\"M1795.0,616.5 L1803.0,604.5 1787.0,604.5\" fill=\"currentColor\"/>\n</g>\n\n<g class=\"displacy-arrow\">\n    <path class=\"displacy-arc\" id=\"arrow-021f1917f61842fe8ec83706a7828056-0-10\" stroke-width=\"2px\" d=\"M1820,614.5 C1820,527.0 1945.0,527.0 1945.0,614.5\" fill=\"none\" stroke=\"currentColor\"/>\n    <text dy=\"1.25em\" style=\"font-size: 0.8em; letter-spacing: 1px\">\n        <textPath xlink:href=\"#arrow-021f1917f61842fe8ec83706a7828056-0-10\" class=\"displacy-label\" startOffset=\"50%\" side=\"left\" fill=\"currentColor\" text-anchor=\"middle\">dobj</textPath>\n    </text>\n    <path class=\"displacy-arrowhead\" d=\"M1945.0,616.5 L1953.0,604.5 1937.0,604.5\" fill=\"currentColor\"/>\n</g>\n\n<g class=\"displacy-arrow\">\n    <path class=\"displacy-arc\" id=\"arrow-021f1917f61842fe8ec83706a7828056-0-11\" stroke-width=\"2px\" d=\"M1995,614.5 C1995,527.0 2120.0,527.0 2120.0,614.5\" fill=\"none\" stroke=\"currentColor\"/>\n    <text dy=\"1.25em\" style=\"font-size: 0.8em; letter-spacing: 1px\">\n        <textPath xlink:href=\"#arrow-021f1917f61842fe8ec83706a7828056-0-11\" class=\"displacy-label\" startOffset=\"50%\" side=\"left\" fill=\"currentColor\" text-anchor=\"middle\">prep</textPath>\n    </text>\n    <path class=\"displacy-arrowhead\" d=\"M2120.0,616.5 L2128.0,604.5 2112.0,604.5\" fill=\"currentColor\"/>\n</g>\n\n<g class=\"displacy-arrow\">\n    <path class=\"displacy-arc\" id=\"arrow-021f1917f61842fe8ec83706a7828056-0-12\" stroke-width=\"2px\" d=\"M2345,614.5 C2345,527.0 2470.0,527.0 2470.0,614.5\" fill=\"none\" stroke=\"currentColor\"/>\n    <text dy=\"1.25em\" style=\"font-size: 0.8em; letter-spacing: 1px\">\n        <textPath xlink:href=\"#arrow-021f1917f61842fe8ec83706a7828056-0-12\" class=\"displacy-label\" startOffset=\"50%\" side=\"left\" fill=\"currentColor\" text-anchor=\"middle\">compound</textPath>\n    </text>\n    <path class=\"displacy-arrowhead\" d=\"M2345,616.5 L2337,604.5 2353,604.5\" fill=\"currentColor\"/>\n</g>\n\n<g class=\"displacy-arrow\">\n    <path class=\"displacy-arc\" id=\"arrow-021f1917f61842fe8ec83706a7828056-0-13\" stroke-width=\"2px\" d=\"M2520,614.5 C2520,527.0 2645.0,527.0 2645.0,614.5\" fill=\"none\" stroke=\"currentColor\"/>\n    <text dy=\"1.25em\" style=\"font-size: 0.8em; letter-spacing: 1px\">\n        <textPath xlink:href=\"#arrow-021f1917f61842fe8ec83706a7828056-0-13\" class=\"displacy-label\" startOffset=\"50%\" side=\"left\" fill=\"currentColor\" text-anchor=\"middle\">compound</textPath>\n    </text>\n    <path class=\"displacy-arrowhead\" d=\"M2520,616.5 L2512,604.5 2528,604.5\" fill=\"currentColor\"/>\n</g>\n\n<g class=\"displacy-arrow\">\n    <path class=\"displacy-arc\" id=\"arrow-021f1917f61842fe8ec83706a7828056-0-14\" stroke-width=\"2px\" d=\"M2170,614.5 C2170,352.0 2655.0,352.0 2655.0,614.5\" fill=\"none\" stroke=\"currentColor\"/>\n    <text dy=\"1.25em\" style=\"font-size: 0.8em; letter-spacing: 1px\">\n        <textPath xlink:href=\"#arrow-021f1917f61842fe8ec83706a7828056-0-14\" class=\"displacy-label\" startOffset=\"50%\" side=\"left\" fill=\"currentColor\" text-anchor=\"middle\">pobj</textPath>\n    </text>\n    <path class=\"displacy-arrowhead\" d=\"M2655.0,616.5 L2663.0,604.5 2647.0,604.5\" fill=\"currentColor\"/>\n</g>\n\n<g class=\"displacy-arrow\">\n    <path class=\"displacy-arc\" id=\"arrow-021f1917f61842fe8ec83706a7828056-0-15\" stroke-width=\"2px\" d=\"M1995,614.5 C1995,177.0 2840.0,177.0 2840.0,614.5\" fill=\"none\" stroke=\"currentColor\"/>\n    <text dy=\"1.25em\" style=\"font-size: 0.8em; letter-spacing: 1px\">\n        <textPath xlink:href=\"#arrow-021f1917f61842fe8ec83706a7828056-0-15\" class=\"displacy-label\" startOffset=\"50%\" side=\"left\" fill=\"currentColor\" text-anchor=\"middle\">prep</textPath>\n    </text>\n    <path class=\"displacy-arrowhead\" d=\"M2840.0,616.5 L2848.0,604.5 2832.0,604.5\" fill=\"currentColor\"/>\n</g>\n\n<g class=\"displacy-arrow\">\n    <path class=\"displacy-arc\" id=\"arrow-021f1917f61842fe8ec83706a7828056-0-16\" stroke-width=\"2px\" d=\"M3045,614.5 C3045,527.0 3170.0,527.0 3170.0,614.5\" fill=\"none\" stroke=\"currentColor\"/>\n    <text dy=\"1.25em\" style=\"font-size: 0.8em; letter-spacing: 1px\">\n        <textPath xlink:href=\"#arrow-021f1917f61842fe8ec83706a7828056-0-16\" class=\"displacy-label\" startOffset=\"50%\" side=\"left\" fill=\"currentColor\" text-anchor=\"middle\">det</textPath>\n    </text>\n    <path class=\"displacy-arrowhead\" d=\"M3045,616.5 L3037,604.5 3053,604.5\" fill=\"currentColor\"/>\n</g>\n\n<g class=\"displacy-arrow\">\n    <path class=\"displacy-arc\" id=\"arrow-021f1917f61842fe8ec83706a7828056-0-17\" stroke-width=\"2px\" d=\"M2870,614.5 C2870,439.5 3175.0,439.5 3175.0,614.5\" fill=\"none\" stroke=\"currentColor\"/>\n    <text dy=\"1.25em\" style=\"font-size: 0.8em; letter-spacing: 1px\">\n        <textPath xlink:href=\"#arrow-021f1917f61842fe8ec83706a7828056-0-17\" class=\"displacy-label\" startOffset=\"50%\" side=\"left\" fill=\"currentColor\" text-anchor=\"middle\">pobj</textPath>\n    </text>\n    <path class=\"displacy-arrowhead\" d=\"M3175.0,616.5 L3183.0,604.5 3167.0,604.5\" fill=\"currentColor\"/>\n</g>\n\n<g class=\"displacy-arrow\">\n    <path class=\"displacy-arc\" id=\"arrow-021f1917f61842fe8ec83706a7828056-0-18\" stroke-width=\"2px\" d=\"M3220,614.5 C3220,527.0 3345.0,527.0 3345.0,614.5\" fill=\"none\" stroke=\"currentColor\"/>\n    <text dy=\"1.25em\" style=\"font-size: 0.8em; letter-spacing: 1px\">\n        <textPath xlink:href=\"#arrow-021f1917f61842fe8ec83706a7828056-0-18\" class=\"displacy-label\" startOffset=\"50%\" side=\"left\" fill=\"currentColor\" text-anchor=\"middle\">prep</textPath>\n    </text>\n    <path class=\"displacy-arrowhead\" d=\"M3345.0,616.5 L3353.0,604.5 3337.0,604.5\" fill=\"currentColor\"/>\n</g>\n\n<g class=\"displacy-arrow\">\n    <path class=\"displacy-arc\" id=\"arrow-021f1917f61842fe8ec83706a7828056-0-19\" stroke-width=\"2px\" d=\"M3570,614.5 C3570,352.0 4055.0,352.0 4055.0,614.5\" fill=\"none\" stroke=\"currentColor\"/>\n    <text dy=\"1.25em\" style=\"font-size: 0.8em; letter-spacing: 1px\">\n        <textPath xlink:href=\"#arrow-021f1917f61842fe8ec83706a7828056-0-19\" class=\"displacy-label\" startOffset=\"50%\" side=\"left\" fill=\"currentColor\" text-anchor=\"middle\">det</textPath>\n    </text>\n    <path class=\"displacy-arrowhead\" d=\"M3570,616.5 L3562,604.5 3578,604.5\" fill=\"currentColor\"/>\n</g>\n\n<g class=\"displacy-arrow\">\n    <path class=\"displacy-arc\" id=\"arrow-021f1917f61842fe8ec83706a7828056-0-20\" stroke-width=\"2px\" d=\"M3745,614.5 C3745,439.5 4050.0,439.5 4050.0,614.5\" fill=\"none\" stroke=\"currentColor\"/>\n    <text dy=\"1.25em\" style=\"font-size: 0.8em; letter-spacing: 1px\">\n        <textPath xlink:href=\"#arrow-021f1917f61842fe8ec83706a7828056-0-20\" class=\"displacy-label\" startOffset=\"50%\" side=\"left\" fill=\"currentColor\" text-anchor=\"middle\">nummod</textPath>\n    </text>\n    <path class=\"displacy-arrowhead\" d=\"M3745,616.5 L3737,604.5 3753,604.5\" fill=\"currentColor\"/>\n</g>\n\n<g class=\"displacy-arrow\">\n    <path class=\"displacy-arc\" id=\"arrow-021f1917f61842fe8ec83706a7828056-0-21\" stroke-width=\"2px\" d=\"M3920,614.5 C3920,527.0 4045.0,527.0 4045.0,614.5\" fill=\"none\" stroke=\"currentColor\"/>\n    <text dy=\"1.25em\" style=\"font-size: 0.8em; letter-spacing: 1px\">\n        <textPath xlink:href=\"#arrow-021f1917f61842fe8ec83706a7828056-0-21\" class=\"displacy-label\" startOffset=\"50%\" side=\"left\" fill=\"currentColor\" text-anchor=\"middle\">compound</textPath>\n    </text>\n    <path class=\"displacy-arrowhead\" d=\"M3920,616.5 L3912,604.5 3928,604.5\" fill=\"currentColor\"/>\n</g>\n\n<g class=\"displacy-arrow\">\n    <path class=\"displacy-arc\" id=\"arrow-021f1917f61842fe8ec83706a7828056-0-22\" stroke-width=\"2px\" d=\"M3395,614.5 C3395,264.5 4060.0,264.5 4060.0,614.5\" fill=\"none\" stroke=\"currentColor\"/>\n    <text dy=\"1.25em\" style=\"font-size: 0.8em; letter-spacing: 1px\">\n        <textPath xlink:href=\"#arrow-021f1917f61842fe8ec83706a7828056-0-22\" class=\"displacy-label\" startOffset=\"50%\" side=\"left\" fill=\"currentColor\" text-anchor=\"middle\">pobj</textPath>\n    </text>\n    <path class=\"displacy-arrowhead\" d=\"M4060.0,616.5 L4068.0,604.5 4052.0,604.5\" fill=\"currentColor\"/>\n</g>\n\n<g class=\"displacy-arrow\">\n    <path class=\"displacy-arc\" id=\"arrow-021f1917f61842fe8ec83706a7828056-0-23\" stroke-width=\"2px\" d=\"M4095,614.5 C4095,527.0 4220.0,527.0 4220.0,614.5\" fill=\"none\" stroke=\"currentColor\"/>\n    <text dy=\"1.25em\" style=\"font-size: 0.8em; letter-spacing: 1px\">\n        <textPath xlink:href=\"#arrow-021f1917f61842fe8ec83706a7828056-0-23\" class=\"displacy-label\" startOffset=\"50%\" side=\"left\" fill=\"currentColor\" text-anchor=\"middle\">prep</textPath>\n    </text>\n    <path class=\"displacy-arrowhead\" d=\"M4220.0,616.5 L4228.0,604.5 4212.0,604.5\" fill=\"currentColor\"/>\n</g>\n\n<g class=\"displacy-arrow\">\n    <path class=\"displacy-arc\" id=\"arrow-021f1917f61842fe8ec83706a7828056-0-24\" stroke-width=\"2px\" d=\"M4270,614.5 C4270,527.0 4395.0,527.0 4395.0,614.5\" fill=\"none\" stroke=\"currentColor\"/>\n    <text dy=\"1.25em\" style=\"font-size: 0.8em; letter-spacing: 1px\">\n        <textPath xlink:href=\"#arrow-021f1917f61842fe8ec83706a7828056-0-24\" class=\"displacy-label\" startOffset=\"50%\" side=\"left\" fill=\"currentColor\" text-anchor=\"middle\">pobj</textPath>\n    </text>\n    <path class=\"displacy-arrowhead\" d=\"M4395.0,616.5 L4403.0,604.5 4387.0,604.5\" fill=\"currentColor\"/>\n</g>\n\n<g class=\"displacy-arrow\">\n    <path class=\"displacy-arc\" id=\"arrow-021f1917f61842fe8ec83706a7828056-0-25\" stroke-width=\"2px\" d=\"M4620,614.5 C4620,264.5 5285.0,264.5 5285.0,614.5\" fill=\"none\" stroke=\"currentColor\"/>\n    <text dy=\"1.25em\" style=\"font-size: 0.8em; letter-spacing: 1px\">\n        <textPath xlink:href=\"#arrow-021f1917f61842fe8ec83706a7828056-0-25\" class=\"displacy-label\" startOffset=\"50%\" side=\"left\" fill=\"currentColor\" text-anchor=\"middle\">det</textPath>\n    </text>\n    <path class=\"displacy-arrowhead\" d=\"M4620,616.5 L4612,604.5 4628,604.5\" fill=\"currentColor\"/>\n</g>\n\n<g class=\"displacy-arrow\">\n    <path class=\"displacy-arc\" id=\"arrow-021f1917f61842fe8ec83706a7828056-0-26\" stroke-width=\"2px\" d=\"M4795,614.5 C4795,352.0 5280.0,352.0 5280.0,614.5\" fill=\"none\" stroke=\"currentColor\"/>\n    <text dy=\"1.25em\" style=\"font-size: 0.8em; letter-spacing: 1px\">\n        <textPath xlink:href=\"#arrow-021f1917f61842fe8ec83706a7828056-0-26\" class=\"displacy-label\" startOffset=\"50%\" side=\"left\" fill=\"currentColor\" text-anchor=\"middle\">amod</textPath>\n    </text>\n    <path class=\"displacy-arrowhead\" d=\"M4795,616.5 L4787,604.5 4803,604.5\" fill=\"currentColor\"/>\n</g>\n\n<g class=\"displacy-arrow\">\n    <path class=\"displacy-arc\" id=\"arrow-021f1917f61842fe8ec83706a7828056-0-27\" stroke-width=\"2px\" d=\"M4970,614.5 C4970,439.5 5275.0,439.5 5275.0,614.5\" fill=\"none\" stroke=\"currentColor\"/>\n    <text dy=\"1.25em\" style=\"font-size: 0.8em; letter-spacing: 1px\">\n        <textPath xlink:href=\"#arrow-021f1917f61842fe8ec83706a7828056-0-27\" class=\"displacy-label\" startOffset=\"50%\" side=\"left\" fill=\"currentColor\" text-anchor=\"middle\">amod</textPath>\n    </text>\n    <path class=\"displacy-arrowhead\" d=\"M4970,616.5 L4962,604.5 4978,604.5\" fill=\"currentColor\"/>\n</g>\n\n<g class=\"displacy-arrow\">\n    <path class=\"displacy-arc\" id=\"arrow-021f1917f61842fe8ec83706a7828056-0-28\" stroke-width=\"2px\" d=\"M5145,614.5 C5145,527.0 5270.0,527.0 5270.0,614.5\" fill=\"none\" stroke=\"currentColor\"/>\n    <text dy=\"1.25em\" style=\"font-size: 0.8em; letter-spacing: 1px\">\n        <textPath xlink:href=\"#arrow-021f1917f61842fe8ec83706a7828056-0-28\" class=\"displacy-label\" startOffset=\"50%\" side=\"left\" fill=\"currentColor\" text-anchor=\"middle\">compound</textPath>\n    </text>\n    <path class=\"displacy-arrowhead\" d=\"M5145,616.5 L5137,604.5 5153,604.5\" fill=\"currentColor\"/>\n</g>\n\n<g class=\"displacy-arrow\">\n    <path class=\"displacy-arc\" id=\"arrow-021f1917f61842fe8ec83706a7828056-0-29\" stroke-width=\"2px\" d=\"M3220,614.5 C3220,2.0 5300.0,2.0 5300.0,614.5\" fill=\"none\" stroke=\"currentColor\"/>\n    <text dy=\"1.25em\" style=\"font-size: 0.8em; letter-spacing: 1px\">\n        <textPath xlink:href=\"#arrow-021f1917f61842fe8ec83706a7828056-0-29\" class=\"displacy-label\" startOffset=\"50%\" side=\"left\" fill=\"currentColor\" text-anchor=\"middle\">appos</textPath>\n    </text>\n    <path class=\"displacy-arrowhead\" d=\"M5300.0,616.5 L5308.0,604.5 5292.0,604.5\" fill=\"currentColor\"/>\n</g>\n\n<g class=\"displacy-arrow\">\n    <path class=\"displacy-arc\" id=\"arrow-021f1917f61842fe8ec83706a7828056-0-30\" stroke-width=\"2px\" d=\"M5320,614.5 C5320,527.0 5445.0,527.0 5445.0,614.5\" fill=\"none\" stroke=\"currentColor\"/>\n    <text dy=\"1.25em\" style=\"font-size: 0.8em; letter-spacing: 1px\">\n        <textPath xlink:href=\"#arrow-021f1917f61842fe8ec83706a7828056-0-30\" class=\"displacy-label\" startOffset=\"50%\" side=\"left\" fill=\"currentColor\" text-anchor=\"middle\">prep</textPath>\n    </text>\n    <path class=\"displacy-arrowhead\" d=\"M5445.0,616.5 L5453.0,604.5 5437.0,604.5\" fill=\"currentColor\"/>\n</g>\n\n<g class=\"displacy-arrow\">\n    <path class=\"displacy-arc\" id=\"arrow-021f1917f61842fe8ec83706a7828056-0-31\" stroke-width=\"2px\" d=\"M5495,614.5 C5495,527.0 5620.0,527.0 5620.0,614.5\" fill=\"none\" stroke=\"currentColor\"/>\n    <text dy=\"1.25em\" style=\"font-size: 0.8em; letter-spacing: 1px\">\n        <textPath xlink:href=\"#arrow-021f1917f61842fe8ec83706a7828056-0-31\" class=\"displacy-label\" startOffset=\"50%\" side=\"left\" fill=\"currentColor\" text-anchor=\"middle\">pobj</textPath>\n    </text>\n    <path class=\"displacy-arrowhead\" d=\"M5620.0,616.5 L5628.0,604.5 5612.0,604.5\" fill=\"currentColor\"/>\n</g>\n</svg>\n</figure>\n</body>\n</html></span>"
     },
     "metadata": {}
    },
    {
     "output_type": "stream",
     "name": "stdout",
     "text": [
      "\n",
      "Using the 'dep' visualizer\n",
      "Serving on http://0.0.0.0:5000 ...\n",
      "\n",
      "Shutting down server on port 5000.\n"
     ]
    }
   ],
   "source": [
    "from spacy import displacy\n",
    "\n",
    "nlp = spacy.load(\"en_core_web_sm\")\n",
    "test = \"She later attempted to clarify her comments, but there were renewed calls by gay rights groups for a boycott of the 2014 Winter Games in Sochi, the next major sports event in Russia.\"\n",
    "doc = nlp(test)\n",
    "displacy.serve(doc, style=\"dep\")"
   ]
  },
  {
   "cell_type": "code",
   "execution_count": null,
   "metadata": {},
   "outputs": [],
   "source": []
  }
 ],
 "metadata": {
  "kernelspec": {
   "name": "python38564biteecc030c0a5c4e8bb53163bec15b264f",
   "display_name": "Python 3.8.5 64-bit"
  },
  "language_info": {
   "codemirror_mode": {
    "name": "ipython",
    "version": 3
   },
   "file_extension": ".py",
   "mimetype": "text/x-python",
   "name": "python",
   "nbconvert_exporter": "python",
   "pygments_lexer": "ipython3",
   "version": "3.8.5"
  },
  "metadata": {
   "interpreter": {
    "hash": "31f2aee4e71d21fbe5cf8b01ff0e069b9275f58929596ceb00d14d90e3e16cd6"
   }
  }
 },
 "nbformat": 4,
 "nbformat_minor": 2
}